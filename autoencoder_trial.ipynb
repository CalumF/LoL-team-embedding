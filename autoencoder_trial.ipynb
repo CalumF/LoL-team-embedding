{
 "cells": [
  {
   "cell_type": "code",
   "execution_count": 24,
   "metadata": {
    "ExecuteTime": {
     "end_time": "2020-07-30T15:54:44.374244Z",
     "start_time": "2020-07-30T15:54:44.366523Z"
    }
   },
   "outputs": [],
   "source": [
    "import pandas as pd\n",
    "import tensorflow as tf\n",
    "from sklearn.preprocessing import label_binarize\n",
    "from sklearn.model_selection import train_test_split\n",
    "import json\n",
    "from tensorflow_addons.callbacks import TQDMProgressBar\n",
    "import matplotlib.pyplot as plt\n",
    "import ast"
   ]
  },
  {
   "cell_type": "code",
   "execution_count": 2,
   "metadata": {
    "ExecuteTime": {
     "end_time": "2020-07-30T15:41:30.548974Z",
     "start_time": "2020-07-30T15:41:30.539658Z"
    }
   },
   "outputs": [],
   "source": [
    "def history_plot(*args, metric='loss'):\n",
    "    if len(args) > 1:\n",
    "        sum_list = []\n",
    "        for x in args:\n",
    "            sum_list += x.history[metric]\n",
    "        val_sum_list = []\n",
    "        for x in args:\n",
    "            val_sum_list += x.history['val_' + metric]\n",
    "        plt.plot(sum_list)\n",
    "        plt.plot(val_sum_list)\n",
    "        plt.title('model loss')\n",
    "        plt.ylabel('loss')\n",
    "        plt.xlabel('epoch')\n",
    "        plt.legend(['train', 'test'], loc='upper left')\n",
    "        plt.show()\n",
    "    else:\n",
    "        history = args[0]\n",
    "        plt.plot(history.history['loss'])\n",
    "        plt.plot(history.history['val_loss'])\n",
    "        plt.title('model loss')\n",
    "        plt.ylabel('loss')\n",
    "        plt.xlabel('epoch')\n",
    "        plt.legend(['train', 'test'], loc='upper left')\n",
    "        plt.show()"
   ]
  },
  {
   "cell_type": "code",
   "execution_count": 3,
   "metadata": {
    "ExecuteTime": {
     "end_time": "2020-07-30T15:41:30.835701Z",
     "start_time": "2020-07-30T15:41:30.831694Z"
    }
   },
   "outputs": [],
   "source": [
    "def to_one_hot(x):\n",
    "    return label_binarize(x, classes=range(149)).flatten()"
   ]
  },
  {
   "cell_type": "code",
   "execution_count": 4,
   "metadata": {
    "ExecuteTime": {
     "end_time": "2020-07-30T15:41:31.215072Z",
     "start_time": "2020-07-30T15:41:31.211723Z"
    }
   },
   "outputs": [],
   "source": [
    "def id_prep(ser):\n",
    "    aslists = [json.loads(x) for x in ser.values]\n",
    "    return np.array([to_one_hot(comp) for comp in aslists])"
   ]
  },
  {
   "cell_type": "code",
   "execution_count": 5,
   "metadata": {
    "ExecuteTime": {
     "end_time": "2020-07-30T15:41:31.416353Z",
     "start_time": "2020-07-30T15:41:31.413085Z"
    }
   },
   "outputs": [],
   "source": [
    "def get_top_5_ch(array):\n",
    "    return [champion_index[np.argmax(sub_array)] for sub_array in np.split(array, 5)]"
   ]
  },
  {
   "cell_type": "code",
   "execution_count": 6,
   "metadata": {
    "ExecuteTime": {
     "end_time": "2020-07-30T15:41:31.950047Z",
     "start_time": "2020-07-30T15:41:31.945878Z"
    }
   },
   "outputs": [],
   "source": [
    "def get_top_5(array):\n",
    "    return [np.argmax(sub_array) for sub_array in np.split(array, 5)]"
   ]
  },
  {
   "cell_type": "code",
   "execution_count": 7,
   "metadata": {
    "ExecuteTime": {
     "end_time": "2020-07-30T15:41:35.552543Z",
     "start_time": "2020-07-30T15:41:35.545616Z"
    }
   },
   "outputs": [],
   "source": [
    "def model_eval(test, test_hat):\n",
    "    test_id = get_top_5(test)\n",
    "    print('Test composition: '+str(get_top_5_ch(test)))\n",
    "    print('Predicted composition: '+str(get_top_5_ch(test_hat)))\n",
    "\n",
    "    error = [np.argwhere(np.sort(sub_array)[::-1] == sub_array[test_id[i]])[0][0] for i, sub_array in enumerate(np.split(test_hat, 5))]\n",
    "    print('Predicted rank of test champions: '+str(error))"
   ]
  },
  {
   "cell_type": "code",
   "execution_count": 11,
   "metadata": {
    "ExecuteTime": {
     "end_time": "2020-07-30T15:44:43.999731Z",
     "start_time": "2020-07-30T15:44:43.993608Z"
    }
   },
   "outputs": [],
   "source": [
    "champion_index = list(pd.read_csv('chamion_index.csv', index_col=0).values.flatten())"
   ]
  },
  {
   "cell_type": "code",
   "execution_count": 12,
   "metadata": {
    "ExecuteTime": {
     "end_time": "2020-07-30T15:44:48.713839Z",
     "start_time": "2020-07-30T15:44:48.708551Z"
    }
   },
   "outputs": [],
   "source": [
    "champion_dict = {y:i for i,y in enumerate(champion_index)}"
   ]
  },
  {
   "cell_type": "code",
   "execution_count": 55,
   "metadata": {
    "ExecuteTime": {
     "end_time": "2020-07-30T16:11:36.440320Z",
     "start_time": "2020-07-30T16:11:36.376863Z"
    }
   },
   "outputs": [],
   "source": [
    "df = pd.read_csv('high_elo_data/master_EUW_150')"
   ]
  },
  {
   "cell_type": "code",
   "execution_count": 56,
   "metadata": {
    "ExecuteTime": {
     "end_time": "2020-07-30T16:12:54.272418Z",
     "start_time": "2020-07-30T16:12:54.182675Z"
    }
   },
   "outputs": [],
   "source": [
    "df = pd.concat([df, pd.read_csv('composition_scrape_ids.csv')]).reset_index(drop=True)"
   ]
  },
  {
   "cell_type": "code",
   "execution_count": 59,
   "metadata": {
    "ExecuteTime": {
     "end_time": "2020-07-30T16:13:16.898155Z",
     "start_time": "2020-07-30T16:13:16.159895Z"
    }
   },
   "outputs": [],
   "source": [
    "df.champions = df.champions.apply(lambda x: ast.literal_eval(x))"
   ]
  },
  {
   "cell_type": "code",
   "execution_count": 60,
   "metadata": {
    "ExecuteTime": {
     "end_time": "2020-07-30T16:13:19.562765Z",
     "start_time": "2020-07-30T16:13:18.510278Z"
    }
   },
   "outputs": [],
   "source": [
    "df['champion_ids'] = df.champions.apply(lambda x: [champion_dict[y] for y in x])"
   ]
  },
  {
   "cell_type": "code",
   "execution_count": 61,
   "metadata": {
    "ExecuteTime": {
     "end_time": "2020-07-30T16:13:20.450855Z",
     "start_time": "2020-07-30T16:13:20.430476Z"
    }
   },
   "outputs": [
    {
     "data": {
      "text/html": [
       "<div>\n",
       "<style scoped>\n",
       "    .dataframe tbody tr th:only-of-type {\n",
       "        vertical-align: middle;\n",
       "    }\n",
       "\n",
       "    .dataframe tbody tr th {\n",
       "        vertical-align: top;\n",
       "    }\n",
       "\n",
       "    .dataframe thead th {\n",
       "        text-align: right;\n",
       "    }\n",
       "</style>\n",
       "<table border=\"1\" class=\"dataframe\">\n",
       "  <thead>\n",
       "    <tr style=\"text-align: right;\">\n",
       "      <th></th>\n",
       "      <th>team</th>\n",
       "      <th>id</th>\n",
       "      <th>win</th>\n",
       "      <th>champions</th>\n",
       "      <th>champion_ids</th>\n",
       "    </tr>\n",
       "  </thead>\n",
       "  <tbody>\n",
       "    <tr>\n",
       "      <th>0</th>\n",
       "      <td>blue</td>\n",
       "      <td>4715835086</td>\n",
       "      <td>False</td>\n",
       "      <td>[Darius, Elise, Zed, Ashe, Morgana]</td>\n",
       "      <td>[20, 25, 144, 8, 76]</td>\n",
       "    </tr>\n",
       "    <tr>\n",
       "      <th>1</th>\n",
       "      <td>red</td>\n",
       "      <td>4715835086</td>\n",
       "      <td>True</td>\n",
       "      <td>[Viktor, Trundle, Sylas, Jhin, Karma]</td>\n",
       "      <td>[133, 122, 113, 46, 50]</td>\n",
       "    </tr>\n",
       "    <tr>\n",
       "      <th>2</th>\n",
       "      <td>blue</td>\n",
       "      <td>4708370729</td>\n",
       "      <td>False</td>\n",
       "      <td>[Vladimir, Lee Sin, Orianna, Draven, Janna]</td>\n",
       "      <td>[134, 62, 85, 22, 42]</td>\n",
       "    </tr>\n",
       "    <tr>\n",
       "      <th>3</th>\n",
       "      <td>red</td>\n",
       "      <td>4708370729</td>\n",
       "      <td>True</td>\n",
       "      <td>[Darius, Rengar, Diana, Karthus, Lulu]</td>\n",
       "      <td>[20, 96, 21, 51, 67]</td>\n",
       "    </tr>\n",
       "    <tr>\n",
       "      <th>4</th>\n",
       "      <td>blue</td>\n",
       "      <td>4705815833</td>\n",
       "      <td>False</td>\n",
       "      <td>[Aatrox, Morgana, Corki, Karthus, Pyke]</td>\n",
       "      <td>[0, 76, 19, 51, 89]</td>\n",
       "    </tr>\n",
       "    <tr>\n",
       "      <th>...</th>\n",
       "      <td>...</td>\n",
       "      <td>...</td>\n",
       "      <td>...</td>\n",
       "      <td>...</td>\n",
       "      <td>...</td>\n",
       "    </tr>\n",
       "    <tr>\n",
       "      <th>55501</th>\n",
       "      <td>red</td>\n",
       "      <td>4384134730</td>\n",
       "      <td>True</td>\n",
       "      <td>[Garen, Kha'Zix, Cassiopeia, Kog'Maw, Swain]</td>\n",
       "      <td>[33, 57, 17, 60, 112]</td>\n",
       "    </tr>\n",
       "    <tr>\n",
       "      <th>55502</th>\n",
       "      <td>blue</td>\n",
       "      <td>4383893083</td>\n",
       "      <td>True</td>\n",
       "      <td>[Malphite, Nocturne, Ziggs, Jinx, Lulu]</td>\n",
       "      <td>[69, 82, 145, 47, 67]</td>\n",
       "    </tr>\n",
       "    <tr>\n",
       "      <th>55503</th>\n",
       "      <td>red</td>\n",
       "      <td>4383893083</td>\n",
       "      <td>False</td>\n",
       "      <td>[Ornn, Diana, Veigar, Ezreal, Nami]</td>\n",
       "      <td>[86, 21, 130, 27, 77]</td>\n",
       "    </tr>\n",
       "    <tr>\n",
       "      <th>55504</th>\n",
       "      <td>blue</td>\n",
       "      <td>4383787921</td>\n",
       "      <td>False</td>\n",
       "      <td>[Darius, Elise, Yasuo, Lucian, Soraka]</td>\n",
       "      <td>[20, 25, 140, 66, 111]</td>\n",
       "    </tr>\n",
       "    <tr>\n",
       "      <th>55505</th>\n",
       "      <td>red</td>\n",
       "      <td>4383787921</td>\n",
       "      <td>True</td>\n",
       "      <td>[Quinn, Nocturne, Akali, Twitch, Lulu]</td>\n",
       "      <td>[91, 82, 2, 125, 67]</td>\n",
       "    </tr>\n",
       "  </tbody>\n",
       "</table>\n",
       "<p>55506 rows × 5 columns</p>\n",
       "</div>"
      ],
      "text/plain": [
       "       team          id    win                                     champions  \\\n",
       "0      blue  4715835086  False           [Darius, Elise, Zed, Ashe, Morgana]   \n",
       "1       red  4715835086   True         [Viktor, Trundle, Sylas, Jhin, Karma]   \n",
       "2      blue  4708370729  False   [Vladimir, Lee Sin, Orianna, Draven, Janna]   \n",
       "3       red  4708370729   True        [Darius, Rengar, Diana, Karthus, Lulu]   \n",
       "4      blue  4705815833  False       [Aatrox, Morgana, Corki, Karthus, Pyke]   \n",
       "...     ...         ...    ...                                           ...   \n",
       "55501   red  4384134730   True  [Garen, Kha'Zix, Cassiopeia, Kog'Maw, Swain]   \n",
       "55502  blue  4383893083   True       [Malphite, Nocturne, Ziggs, Jinx, Lulu]   \n",
       "55503   red  4383893083  False           [Ornn, Diana, Veigar, Ezreal, Nami]   \n",
       "55504  blue  4383787921  False        [Darius, Elise, Yasuo, Lucian, Soraka]   \n",
       "55505   red  4383787921   True        [Quinn, Nocturne, Akali, Twitch, Lulu]   \n",
       "\n",
       "                  champion_ids  \n",
       "0         [20, 25, 144, 8, 76]  \n",
       "1      [133, 122, 113, 46, 50]  \n",
       "2        [134, 62, 85, 22, 42]  \n",
       "3         [20, 96, 21, 51, 67]  \n",
       "4          [0, 76, 19, 51, 89]  \n",
       "...                        ...  \n",
       "55501    [33, 57, 17, 60, 112]  \n",
       "55502    [69, 82, 145, 47, 67]  \n",
       "55503    [86, 21, 130, 27, 77]  \n",
       "55504   [20, 25, 140, 66, 111]  \n",
       "55505     [91, 82, 2, 125, 67]  \n",
       "\n",
       "[55506 rows x 5 columns]"
      ]
     },
     "execution_count": 61,
     "metadata": {},
     "output_type": "execute_result"
    }
   ],
   "source": [
    "df"
   ]
  },
  {
   "cell_type": "code",
   "execution_count": 62,
   "metadata": {
    "ExecuteTime": {
     "end_time": "2020-07-30T16:14:00.300807Z",
     "start_time": "2020-07-30T16:14:00.278097Z"
    }
   },
   "outputs": [],
   "source": [
    "df = df.drop_duplicates(subset=['team', 'id', 'win']).copy()"
   ]
  },
  {
   "cell_type": "code",
   "execution_count": 63,
   "metadata": {
    "ExecuteTime": {
     "end_time": "2020-07-30T16:14:18.877241Z",
     "start_time": "2020-07-30T16:14:05.533121Z"
    }
   },
   "outputs": [],
   "source": [
    "X = np.array([to_one_hot(comp) for comp in df.champion_ids])"
   ]
  },
  {
   "cell_type": "code",
   "execution_count": 65,
   "metadata": {
    "ExecuteTime": {
     "end_time": "2020-07-30T16:15:20.527886Z",
     "start_time": "2020-07-30T16:15:20.334702Z"
    }
   },
   "outputs": [],
   "source": [
    "X_train, X_test = train_test_split(X, test_size=0.1, random_state=100)"
   ]
  },
  {
   "cell_type": "code",
   "execution_count": 66,
   "metadata": {
    "ExecuteTime": {
     "end_time": "2020-07-30T16:15:22.658119Z",
     "start_time": "2020-07-30T16:15:22.650659Z"
    }
   },
   "outputs": [
    {
     "data": {
      "text/plain": [
       "(48871, 745)"
      ]
     },
     "execution_count": 66,
     "metadata": {},
     "output_type": "execute_result"
    }
   ],
   "source": [
    "X_train.shape"
   ]
  },
  {
   "cell_type": "code",
   "execution_count": 88,
   "metadata": {
    "ExecuteTime": {
     "end_time": "2020-07-31T12:46:43.372461Z",
     "start_time": "2020-07-31T12:46:43.154217Z"
    }
   },
   "outputs": [],
   "source": [
    "encoding_dim = 32\n",
    "input_comp = tf.keras.layers.Input(shape=(745,))\n",
    "encoded = tf.keras.layers.Dense(64, activation='relu')(input_comp)\n",
    "encoded = tf.keras.layers.Dense(encoding_dim, activation='relu')(encoded)\n",
    "decoded = tf.keras.layers.Dense(64, activation='relu')(encoded)\n",
    "decoded = tf.keras.layers.Dense(745, activation='sigmoid')(decoded)\n",
    "\n",
    "autoencoder = tf.keras.models.Model(input_comp, decoded)"
   ]
  },
  {
   "cell_type": "code",
   "execution_count": 89,
   "metadata": {
    "ExecuteTime": {
     "end_time": "2020-07-31T12:46:45.401843Z",
     "start_time": "2020-07-31T12:46:45.396053Z"
    }
   },
   "outputs": [],
   "source": [
    "optimizer = tf.keras.optimizers.Adadelta(learning_rate=0.001, rho=0.95, epsilon=1e-07, name=\"Adadelta\")"
   ]
  },
  {
   "cell_type": "code",
   "execution_count": 90,
   "metadata": {
    "ExecuteTime": {
     "end_time": "2020-07-31T12:46:50.431630Z",
     "start_time": "2020-07-31T12:46:50.411522Z"
    }
   },
   "outputs": [],
   "source": [
    "autoencoder.compile(optimizer=optimizer, loss='binary_crossentropy')"
   ]
  },
  {
   "cell_type": "code",
   "execution_count": 91,
   "metadata": {
    "ExecuteTime": {
     "end_time": "2020-07-31T12:46:52.335277Z",
     "start_time": "2020-07-31T12:46:52.326311Z"
    }
   },
   "outputs": [],
   "source": [
    "tqdm_callback = TQDMProgressBar(show_epoch_progress=False)"
   ]
  },
  {
   "cell_type": "code",
   "execution_count": 92,
   "metadata": {
    "ExecuteTime": {
     "end_time": "2020-07-31T13:14:29.008967Z",
     "start_time": "2020-07-31T12:47:34.717339Z"
    }
   },
   "outputs": [
    {
     "data": {
      "application/vnd.jupyter.widget-view+json": {
       "model_id": "f29a92e0e1064d00aece02b3dcd53ddb",
       "version_major": 2,
       "version_minor": 0
      },
      "text/plain": [
       "HBox(children=(FloatProgress(value=0.0, description='Training', layout=Layout(flex='2'), max=1000.0, style=Pro…"
      ]
     },
     "metadata": {},
     "output_type": "display_data"
    },
    {
     "name": "stdout",
     "output_type": "stream",
     "text": [
      "\n"
     ]
    }
   ],
   "source": [
    "history1 = autoencoder.fit(X_train, X_train,\n",
    "                    epochs=1000,\n",
    "                    batch_size=64,\n",
    "                    shuffle=True,\n",
    "                    verbose=0,\n",
    "                    validation_data=(X_test, X_test),\n",
    "                    callbacks=[tqdm_callback])"
   ]
  },
  {
   "cell_type": "code",
   "execution_count": 93,
   "metadata": {
    "ExecuteTime": {
     "end_time": "2020-07-31T13:15:13.548763Z",
     "start_time": "2020-07-31T13:15:13.119257Z"
    }
   },
   "outputs": [
    {
     "data": {
      "image/png": "[encoded data removed]",
      "text/plain": [
       "<Figure size 432x288 with 1 Axes>"
      ]
     },
     "metadata": {
      "needs_background": "light"
     },
     "output_type": "display_data"
    }
   ],
   "source": [
    "history_plot(history1)"
   ]
  },
  {
   "cell_type": "code",
   "execution_count": 206,
   "metadata": {
    "ExecuteTime": {
     "end_time": "2020-07-30T15:12:03.633000Z",
     "start_time": "2020-07-30T15:12:03.453034Z"
    }
   },
   "outputs": [
    {
     "data": {
      "image/png": "[encoded data removed]",
      "text/plain": [
       "<Figure size 432x288 with 1 Axes>"
      ]
     },
     "metadata": {
      "needs_background": "light"
     },
     "output_type": "display_data"
    }
   ],
   "source": [
    "history_plot(history2, history3, history4, history5, history6)"
   ]
  },
  {
   "cell_type": "code",
   "execution_count": 84,
   "metadata": {
    "ExecuteTime": {
     "end_time": "2020-07-31T12:43:14.849793Z",
     "start_time": "2020-07-31T12:43:11.829361Z"
    }
   },
   "outputs": [
    {
     "name": "stdout",
     "output_type": "stream",
     "text": [
      "WARNING:tensorflow:From /opt/anaconda3/envs/tensorflow2/lib/python3.7/site-packages/tensorflow/python/ops/resource_variable_ops.py:1817: calling BaseResourceVariable.__init__ (from tensorflow.python.ops.resource_variable_ops) with constraint is deprecated and will be removed in a future version.\n",
      "Instructions for updating:\n",
      "If using Keras pass *_constraint arguments to layers.\n",
      "INFO:tensorflow:Assets written to: saved_models/autoencoder_deep_reg_30000/assets\n"
     ]
    }
   ],
   "source": [
    "autoencoder.save('saved_models/autoencoder_deep_reg_30000')"
   ]
  },
  {
   "cell_type": "code",
   "execution_count": 141,
   "metadata": {
    "ExecuteTime": {
     "end_time": "2020-07-28T16:28:29.270086Z",
     "start_time": "2020-07-28T16:28:29.260518Z"
    }
   },
   "outputs": [
    {
     "name": "stdout",
     "output_type": "stream",
     "text": [
      "Model: \"model\"\n",
      "_________________________________________________________________\n",
      "Layer (type)                 Output Shape              Param #   \n",
      "=================================================================\n",
      "input_2 (InputLayer)         [(None, 745)]             0         \n",
      "_________________________________________________________________\n",
      "dense_1 (Dense)              (None, 16)                11936     \n",
      "_________________________________________________________________\n",
      "dense_2 (Dense)              (None, 745)               12665     \n",
      "=================================================================\n",
      "Total params: 24,601\n",
      "Trainable params: 24,601\n",
      "Non-trainable params: 0\n",
      "_________________________________________________________________\n"
     ]
    }
   ],
   "source": [
    "autoencoder.summary()"
   ]
  },
  {
   "cell_type": "code",
   "execution_count": 94,
   "metadata": {
    "ExecuteTime": {
     "end_time": "2020-07-31T13:15:24.328117Z",
     "start_time": "2020-07-31T13:15:24.141362Z"
    }
   },
   "outputs": [],
   "source": [
    "X_test_hat = autoencoder.predict(X_test)"
   ]
  },
  {
   "cell_type": "code",
   "execution_count": 161,
   "metadata": {
    "ExecuteTime": {
     "end_time": "2020-07-30T14:17:31.537883Z",
     "start_time": "2020-07-30T14:17:31.531203Z"
    }
   },
   "outputs": [
    {
     "data": {
      "text/plain": [
       "(1, 745)"
      ]
     },
     "execution_count": 161,
     "metadata": {},
     "output_type": "execute_result"
    }
   ],
   "source": [
    "X_test[[0]].shape"
   ]
  },
  {
   "cell_type": "code",
   "execution_count": 95,
   "metadata": {
    "ExecuteTime": {
     "end_time": "2020-07-31T13:15:27.925017Z",
     "start_time": "2020-07-31T13:15:27.693471Z"
    }
   },
   "outputs": [
    {
     "name": "stdout",
     "output_type": "stream",
     "text": [
      "170/170 [==============================] - 0s 1ms/step - loss: 0.0306\n"
     ]
    },
    {
     "data": {
      "text/plain": [
       "0.030558962374925613"
      ]
     },
     "execution_count": 95,
     "metadata": {},
     "output_type": "execute_result"
    }
   ],
   "source": [
    "autoencoder.evaluate(X_test,X_test)"
   ]
  },
  {
   "cell_type": "code",
   "execution_count": 209,
   "metadata": {
    "ExecuteTime": {
     "end_time": "2020-07-30T15:12:33.473817Z",
     "start_time": "2020-07-30T15:12:33.467840Z"
    }
   },
   "outputs": [
    {
     "data": {
      "text/plain": [
       "['Riven', 'Shaco', 'Talon', \"Kai'Sa\", 'Bard']"
      ]
     },
     "execution_count": 209,
     "metadata": {},
     "output_type": "execute_result"
    }
   ],
   "source": [
    "get_top_5_ch(X_test[0])"
   ]
  },
  {
   "cell_type": "code",
   "execution_count": 233,
   "metadata": {
    "ExecuteTime": {
     "end_time": "2020-07-30T15:33:09.894890Z",
     "start_time": "2020-07-30T15:33:09.887694Z"
    }
   },
   "outputs": [
    {
     "data": {
      "text/plain": [
       "['Darius', 'Lee Sin', 'Syndra', 'Ezreal', 'Thresh']"
      ]
     },
     "execution_count": 233,
     "metadata": {},
     "output_type": "execute_result"
    }
   ],
   "source": [
    "get_top_5_ch(X_test_hat[5])"
   ]
  },
  {
   "cell_type": "code",
   "execution_count": 227,
   "metadata": {
    "ExecuteTime": {
     "end_time": "2020-07-30T15:30:49.097162Z",
     "start_time": "2020-07-30T15:30:49.091667Z"
    }
   },
   "outputs": [
    {
     "data": {
      "text/plain": [
       "array([[0.05519509, 0.04484531, 0.03773698, ..., 0.00348708, 0.00343513,\n",
       "        0.003427  ],\n",
       "       [0.02656701, 0.00368297, 0.0083043 , ..., 0.00930157, 0.00322044,\n",
       "        0.00980127],\n",
       "       [0.0361554 , 0.00582638, 0.01221371, ..., 0.01314345, 0.00531074,\n",
       "        0.01392817],\n",
       "       ...,\n",
       "       [0.03507352, 0.00564334, 0.01211151, ..., 0.01282606, 0.00520396,\n",
       "        0.014456  ],\n",
       "       [0.0333769 , 0.00527456, 0.01133767, ..., 0.01141945, 0.00458992,\n",
       "        0.01276895],\n",
       "       [0.03167951, 0.0049105 , 0.01036173, ..., 0.0115768 , 0.00441182,\n",
       "        0.01231733]], dtype=float32)"
      ]
     },
     "execution_count": 227,
     "metadata": {},
     "output_type": "execute_result"
    }
   ],
   "source": [
    "X_test_hat"
   ]
  },
  {
   "cell_type": "code",
   "execution_count": 80,
   "metadata": {
    "ExecuteTime": {
     "end_time": "2020-07-31T12:05:03.087324Z",
     "start_time": "2020-07-31T12:05:03.067351Z"
    }
   },
   "outputs": [
    {
     "name": "stdout",
     "output_type": "stream",
     "text": [
      "Test composition: ['Gangplank', 'Vi', 'Lissandra', 'Aphelios', 'Pyke']\n",
      "Predicted composition: ['Camille', 'Lee Sin', 'Syndra', 'Ezreal', 'Thresh']\n",
      "Predicted rank of test champions: [15, 32, 34, 1, 9]\n"
     ]
    }
   ],
   "source": [
    "model_eval(X_test[0], X_test_hat[0])"
   ]
  },
  {
   "cell_type": "code",
   "execution_count": 102,
   "metadata": {
    "ExecuteTime": {
     "end_time": "2020-07-31T13:20:17.300818Z",
     "start_time": "2020-07-31T13:20:17.035259Z"
    }
   },
   "outputs": [
    {
     "data": {
      "text/plain": [
       "{\"['Camille', 'Lee Sin', 'Syndra', 'Ezreal', 'Thresh']\"}"
      ]
     },
     "execution_count": 102,
     "metadata": {},
     "output_type": "execute_result"
    }
   ],
   "source": [
    "set([str(get_top_5_ch(x)) for x in X_test_hat])"
   ]
  },
  {
   "cell_type": "code",
   "execution_count": 96,
   "metadata": {
    "ExecuteTime": {
     "end_time": "2020-07-31T13:15:39.707568Z",
     "start_time": "2020-07-31T13:15:39.691976Z"
    }
   },
   "outputs": [
    {
     "name": "stdout",
     "output_type": "stream",
     "text": [
      "Test composition: ['Gangplank', 'Vi', 'Lissandra', 'Aphelios', 'Pyke']\n",
      "Predicted composition: ['Camille', 'Lee Sin', 'Syndra', 'Ezreal', 'Thresh']\n",
      "Predicted rank of test champions: [14, 32, 34, 2, 11]\n",
      "None\n",
      "Test composition: ['Poppy', 'Graves', 'Heimerdinger', 'Varus', 'Zyra']\n",
      "Predicted composition: ['Camille', 'Lee Sin', 'Syndra', 'Ezreal', 'Thresh']\n",
      "Predicted rank of test champions: [28, 1, 48, 4, 19]\n",
      "None\n",
      "Test composition: ['Garen', 'Jarvan IV', 'Kassadin', \"Kai'Sa\", 'Lulu']\n",
      "Predicted composition: ['Camille', 'Lee Sin', 'Syndra', 'Ezreal', 'Thresh']\n",
      "Predicted rank of test champions: [16, 8, 10, 1, 2]\n",
      "None\n",
      "Test composition: ['Garen', 'Kayn', 'Sylas', 'Miss Fortune', 'Bard']\n",
      "Predicted composition: ['Camille', 'Lee Sin', 'Syndra', 'Ezreal', 'Thresh']\n",
      "Predicted rank of test champions: [16, 7, 12, 3, 1]\n",
      "None\n",
      "Test composition: ['Riven', 'Karthus', 'Sylas', 'Aphelios', 'Braum']\n",
      "Predicted composition: ['Camille', 'Lee Sin', 'Syndra', 'Ezreal', 'Thresh']\n",
      "Predicted rank of test champions: [11, 10, 12, 2, 18]\n",
      "None\n",
      "Test composition: ['Jayce', 'Wukong', 'Diana', 'Senna', 'Soraka']\n",
      "Predicted composition: ['Camille', 'Lee Sin', 'Syndra', 'Ezreal', 'Thresh']\n",
      "Predicted rank of test champions: [26, 24, 11, 18, 13]\n",
      "None\n",
      "Test composition: ['Jax', 'Nidalee', 'Kassadin', 'Caitlyn', 'Leona']\n",
      "Predicted composition: ['Camille', 'Lee Sin', 'Syndra', 'Ezreal', 'Thresh']\n",
      "Predicted rank of test champions: [2, 6, 10, 6, 9]\n",
      "None\n",
      "Test composition: ['Ornn', \"Kha'Zix\", 'Azir', 'Ezreal', 'Alistar']\n",
      "Predicted composition: ['Camille', 'Lee Sin', 'Syndra', 'Ezreal', 'Thresh']\n",
      "Predicted rank of test champions: [8, 2, 16, 0, 19]\n",
      "None\n",
      "Test composition: ['Jax', 'Pantheon', 'Annie', 'Kalista', 'Morgana']\n",
      "Predicted composition: ['Camille', 'Lee Sin', 'Syndra', 'Ezreal', 'Thresh']\n",
      "Predicted rank of test champions: [2, 34, 43, 7, 15]\n",
      "None\n",
      "Test composition: ['Kled', \"Kha'Zix\", 'Viktor', 'Senna', 'Nautilus']\n",
      "Predicted composition: ['Camille', 'Lee Sin', 'Syndra', 'Ezreal', 'Thresh']\n",
      "Predicted rank of test champions: [17, 2, 23, 18, 7]\n",
      "None\n"
     ]
    }
   ],
   "source": [
    "for x in range(10):\n",
    "    print(model_eval(X_test[x], X_test_hat[x]))"
   ]
  },
  {
   "cell_type": "code",
   "execution_count": 173,
   "metadata": {
    "ExecuteTime": {
     "end_time": "2020-07-30T14:36:37.661795Z",
     "start_time": "2020-07-30T14:36:37.648227Z"
    }
   },
   "outputs": [
    {
     "data": {
      "text/plain": [
       "[97, 103, 117, 48, 11]"
      ]
     },
     "execution_count": 173,
     "metadata": {},
     "output_type": "execute_result"
    }
   ],
   "source": [
    "get_top_5(X_test[0])"
   ]
  },
  {
   "cell_type": "code",
   "execution_count": 155,
   "metadata": {
    "ExecuteTime": {
     "end_time": "2020-07-30T13:49:28.894841Z",
     "start_time": "2020-07-30T13:49:28.882319Z"
    }
   },
   "outputs": [
    {
     "data": {
      "text/plain": [
       "array([474, 738, 716, 211, 663, 576, 495, 638, 520, 607, 192, 513, 185,\n",
       "       204, 454, 697, 412,  29, 673, 351, 462, 659, 493, 383, 575, 102,\n",
       "       221,  75,  20, 432, 442, 322, 436,  16, 174, 455, 494, 675, 319,\n",
       "       469,   0,  95, 438,  33, 206, 587, 104,  40, 672, 366, 359,  71,\n",
       "       243, 315,  18, 350,  86, 646, 232, 233, 429,  44,  59, 496, 584,\n",
       "       249,  34, 688, 230, 299, 328, 685, 173,  35, 568, 271, 231, 368,\n",
       "       445, 608, 507, 134, 292, 177, 252, 149, 338, 388, 157,  32, 548,\n",
       "       614, 411,  69, 727, 415, 123, 141, 324, 475, 715, 184, 707, 592,\n",
       "       168,  97, 356, 336, 742, 708, 262, 396, 140, 422, 367, 245, 284,\n",
       "       146,  78, 147, 290, 208, 186, 456, 476, 555, 533, 723, 657, 199,\n",
       "       283, 329, 223,  54, 394,  76, 193, 326,  67, 531, 391, 176, 718,\n",
       "       468, 120, 248,  30, 107,  90, 195,  49,  85, 167,  88, 373, 710,\n",
       "       591, 465, 369, 266, 363, 595, 560, 261, 242, 240, 113, 254,   6,\n",
       "       357, 156, 521, 641, 251, 581, 713, 166, 300, 222, 585, 434, 579,\n",
       "       714, 106, 678, 314, 605, 136, 668, 724, 127, 358, 280, 448, 180,\n",
       "       111, 720, 190, 114, 390, 461, 506,  37, 610,  81, 726, 310,   2,\n",
       "       613, 464, 159, 484, 386,  77, 153,  45, 151,  61, 741, 485,  48,\n",
       "       164, 348, 626, 162,   3, 101, 318, 216, 210, 512, 583, 492, 378,\n",
       "       400, 298, 265, 572, 312, 735, 417,  64, 557,   8, 691, 179, 633,\n",
       "       528,  91, 690, 285, 578, 527, 311, 698,  26, 639, 628, 352, 103,\n",
       "        19, 247, 630, 259,  47, 258, 313, 393, 346, 227, 509,  60, 431,\n",
       "       497, 225, 349, 427, 654, 640, 128, 301, 281,  94, 731,  70, 734,\n",
       "       686, 711,  22, 525, 535, 365, 719,  39, 655, 286, 487, 239, 667,\n",
       "       235, 135, 150, 294, 296, 609, 121, 172, 491,   1, 478, 409, 158,\n",
       "       558, 189, 175, 397, 129, 410, 586,  62, 596,  23, 554, 604,  14,\n",
       "       132, 122, 181,  93, 228, 612,  17, 194, 333, 660,  87, 207, 736,\n",
       "       561, 138, 598, 488, 542, 621, 419, 433, 420, 321, 212, 169,   5,\n",
       "        98, 217, 272, 236,  41, 477, 653, 130,  57, 355, 253, 439, 629,\n",
       "       137,  10, 703, 246, 589, 515, 295,  53, 257, 620, 389, 200, 305,\n",
       "       288, 308, 171, 538, 669, 278, 213, 684, 665, 637, 360, 307, 405,\n",
       "       611, 692, 384, 545, 702, 330, 519, 694, 651, 570, 463, 721, 617,\n",
       "        66, 566, 437,  12, 215, 152, 191, 565, 209, 423,   7, 155, 644,\n",
       "       100, 722, 486, 687, 403, 154, 544, 188, 425, 508, 666, 160, 131,\n",
       "       317, 124, 320, 144,  21, 170,   9, 446, 126, 577, 337, 264, 547,\n",
       "       602, 453, 661, 503, 374, 599, 273, 471, 615, 414,  15, 269, 220,\n",
       "        89, 263, 381, 395, 518, 460, 693, 183, 198, 115, 603, 732, 517,\n",
       "       624, 325, 664, 552, 498, 372,  82, 353, 553, 670,  28, 529,  24,\n",
       "       739, 332, 744, 435, 459, 255, 730, 729, 524,  73, 335, 490, 499,\n",
       "       260, 282, 588, 699, 119, 444, 270, 323, 645, 594, 334, 662, 219,\n",
       "       650, 316, 622, 408, 717, 573, 516,  63,  11, 203, 362, 689, 532,\n",
       "       671, 676, 424, 457, 110, 564, 377, 534, 556, 428, 740, 677, 704,\n",
       "        84, 466, 502, 623,  56, 165, 202, 737, 536, 382, 375, 701, 163,\n",
       "       205, 625, 522, 276, 705, 601, 571, 287, 347, 293, 371, 656, 387,\n",
       "       523, 187, 709,  36, 196, 728, 451, 244, 447, 549, 580, 618, 418,\n",
       "       600,  50, 479, 304, 582, 706, 567, 443, 267, 695, 674, 385, 109,\n",
       "        74, 636, 473,  42, 450, 142, 426, 401, 117,  80, 139, 440,  43,\n",
       "       379,  27, 229,  55, 482, 712, 392, 277,  46, 563, 682, 632, 406,\n",
       "       404, 402, 237, 421, 681, 354, 178, 226, 275,  96, 648, 634, 112,\n",
       "       543, 214, 562, 364, 514,  25, 647, 133, 597,  13, 370,  79, 413,\n",
       "       416, 526, 197, 306, 398, 342, 218, 616, 696, 540, 143, 627,  38,\n",
       "       105, 118, 291, 458, 606, 631, 511, 619, 550,  51,  58, 380, 331,\n",
       "        65, 303, 289, 302, 467,  68, 224, 145, 399, 501, 361, 649, 470,\n",
       "       297, 341, 481, 234, 148, 345, 559, 339, 327, 590, 343,  92, 108,\n",
       "       344, 504, 449, 161,  83, 376, 743, 643,  52, 541, 125, 733, 700,\n",
       "       472, 551, 340, 510, 642, 652, 635,  72, 569, 683, 680, 574, 452,\n",
       "       483, 500, 725, 309, 530, 182, 407, 546, 430, 274, 241, 679,   4,\n",
       "       658, 279, 505, 489, 116, 480, 593, 268, 250, 441, 238,  99,  31,\n",
       "       539, 201, 256, 537])"
      ]
     },
     "execution_count": 155,
     "metadata": {},
     "output_type": "execute_result"
    }
   ],
   "source": [
    "np.argsort(X_test_hat[0])[::-1]"
   ]
  },
  {
   "cell_type": "code",
   "execution_count": null,
   "metadata": {},
   "outputs": [],
   "source": []
  }
 ],
 "metadata": {
  "kernelspec": {
   "display_name": "tensorflow2",
   "language": "python",
   "name": "tensorflow2"
  },
  "language_info": {
   "codemirror_mode": {
    "name": "ipython",
    "version": 3
   },
   "file_extension": ".py",
   "mimetype": "text/x-python",
   "name": "python",
   "nbconvert_exporter": "python",
   "pygments_lexer": "ipython3",
   "version": "3.7.7"
  },
  "varInspector": {
   "cols": {
    "lenName": 16,
    "lenType": 16,
    "lenVar": 40
   },
   "kernels_config": {
    "python": {
     "delete_cmd_postfix": "",
     "delete_cmd_prefix": "del ",
     "library": "var_list.py",
     "varRefreshCmd": "print(var_dic_list())"
    },
    "r": {
     "delete_cmd_postfix": ") ",
     "delete_cmd_prefix": "rm(",
     "library": "var_list.r",
     "varRefreshCmd": "cat(var_dic_list()) "
    }
   },
   "types_to_exclude": [
    "module",
    "function",
    "builtin_function_or_method",
    "instance",
    "_Feature"
   ],
   "window_display": false
  }
 },
 "nbformat": 4,
 "nbformat_minor": 2
}
