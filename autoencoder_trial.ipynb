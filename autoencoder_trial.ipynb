{
 "cells": [
  {
   "cell_type": "code",
   "execution_count": 50,
   "metadata": {
    "ExecuteTime": {
     "end_time": "2020-07-28T14:35:27.037606Z",
     "start_time": "2020-07-28T14:35:26.292465Z"
    }
   },
   "outputs": [],
   "source": [
    "import pandas as pd\n",
    "import tensorflow as tf\n",
    "from sklearn.preprocessing import label_binarize\n",
    "from sklearn.model_selection import train_test_split\n",
    "import json\n",
    "from tensorflow_addons.callbacks import TQDMProgressBar\n",
    "import matplotlib.pyplot as plt"
   ]
  },
  {
   "cell_type": "code",
   "execution_count": 93,
   "metadata": {
    "ExecuteTime": {
     "end_time": "2020-07-28T15:51:14.105153Z",
     "start_time": "2020-07-28T15:51:14.094886Z"
    }
   },
   "outputs": [],
   "source": [
    "def history_plot(*args, metric='loss'):\n",
    "    if len(args) > 1:\n",
    "        sum_list = []\n",
    "        for x in args:\n",
    "            sum_list += x.history[metric]\n",
    "        val_sum_list = []\n",
    "        for x in args:\n",
    "            val_sum_list += x.history['val_' + metric]\n",
    "        plt.plot(sum_list)\n",
    "        plt.plot(val_sum_list)\n",
    "        plt.title('model loss')\n",
    "        plt.ylabel('loss')\n",
    "        plt.xlabel('epoch')\n",
    "        plt.legend(['train', 'test'], loc='upper left')\n",
    "        plt.show()\n",
    "    else:\n",
    "        history = args[0]\n",
    "        plt.plot(history.history['loss'])\n",
    "        plt.plot(history.history['val_loss'])\n",
    "        plt.title('model loss')\n",
    "        plt.ylabel('loss')\n",
    "        plt.xlabel('epoch')\n",
    "        plt.legend(['train', 'test'], loc='upper left')\n",
    "        plt.show()"
   ]
  },
  {
   "cell_type": "code",
   "execution_count": 30,
   "metadata": {
    "ExecuteTime": {
     "end_time": "2020-07-28T13:54:10.831707Z",
     "start_time": "2020-07-28T13:54:10.827652Z"
    }
   },
   "outputs": [],
   "source": [
    "def to_one_hot(x):\n",
    "    return label_binarize(x, classes=range(149)).flatten()"
   ]
  },
  {
   "cell_type": "code",
   "execution_count": 31,
   "metadata": {
    "ExecuteTime": {
     "end_time": "2020-07-28T13:55:30.300218Z",
     "start_time": "2020-07-28T13:55:30.290877Z"
    }
   },
   "outputs": [],
   "source": [
    "def id_prep(ser):\n",
    "    aslists = [json.loads(x) for x in ser.values]\n",
    "    return np.array([to_one_hot(comp) for comp in aslists])"
   ]
  },
  {
   "cell_type": "code",
   "execution_count": 11,
   "metadata": {
    "ExecuteTime": {
     "end_time": "2020-07-28T13:28:22.150415Z",
     "start_time": "2020-07-28T13:28:22.124995Z"
    }
   },
   "outputs": [],
   "source": [
    "df = pd.read_csv('composition_scrape_ids.csv')"
   ]
  },
  {
   "cell_type": "code",
   "execution_count": 12,
   "metadata": {
    "ExecuteTime": {
     "end_time": "2020-07-28T13:28:31.182282Z",
     "start_time": "2020-07-28T13:28:31.175319Z"
    },
    "scrolled": true
   },
   "outputs": [
    {
     "data": {
      "text/plain": [
       "array(['[20, 96, 146, 47, 67]', '[107, 57, 140, 8, 142]',\n",
       "       '[119, 132, 31, 46, 111]', ..., '[86, 21, 130, 27, 77]',\n",
       "       '[20, 25, 140, 66, 111]', '[91, 82, 2, 125, 67]'], dtype=object)"
      ]
     },
     "execution_count": 12,
     "metadata": {},
     "output_type": "execute_result"
    }
   ],
   "source": [
    "df.champion_ids.values"
   ]
  },
  {
   "cell_type": "code",
   "execution_count": 33,
   "metadata": {
    "ExecuteTime": {
     "end_time": "2020-07-28T13:56:24.662354Z",
     "start_time": "2020-07-28T13:56:22.393380Z"
    }
   },
   "outputs": [],
   "source": [
    "X = id_prep(df.champion_ids)"
   ]
  },
  {
   "cell_type": "code",
   "execution_count": 38,
   "metadata": {
    "ExecuteTime": {
     "end_time": "2020-07-28T14:00:59.361728Z",
     "start_time": "2020-07-28T14:00:59.242898Z"
    }
   },
   "outputs": [],
   "source": [
    "X_train, X_test = train_test_split(X, test_size=0.1, random_state=100)"
   ]
  },
  {
   "cell_type": "code",
   "execution_count": 39,
   "metadata": {
    "ExecuteTime": {
     "end_time": "2020-07-28T14:01:06.250115Z",
     "start_time": "2020-07-28T14:01:06.246150Z"
    }
   },
   "outputs": [
    {
     "data": {
      "text/plain": [
       "(8640, 745)"
      ]
     },
     "execution_count": 39,
     "metadata": {},
     "output_type": "execute_result"
    }
   ],
   "source": [
    "X_train.shape"
   ]
  },
  {
   "cell_type": "code",
   "execution_count": 41,
   "metadata": {
    "ExecuteTime": {
     "end_time": "2020-07-28T14:23:25.904558Z",
     "start_time": "2020-07-28T14:23:25.728334Z"
    }
   },
   "outputs": [],
   "source": [
    "encoding_dim = 16\n",
    "input_comp = tf.keras.layers.Input(shape=(745,))\n",
    "encoded = tf.keras.layers.Dense(encoding_dim, activation='relu')(input_comp)\n",
    "decoded = tf.keras.layers.Dense(745, activation='sigmoid')(encoded)\n",
    "\n",
    "autoencoder = tf.keras.models.Model(input_comp, decoded)"
   ]
  },
  {
   "cell_type": "code",
   "execution_count": 59,
   "metadata": {
    "ExecuteTime": {
     "end_time": "2020-07-28T14:53:20.683270Z",
     "start_time": "2020-07-28T14:53:20.678397Z"
    }
   },
   "outputs": [],
   "source": [
    "optimizer = tf.keras.optimizers.Adadelta(learning_rate=0.01, rho=0.95, epsilon=1e-07, name=\"Adadelta\")"
   ]
  },
  {
   "cell_type": "code",
   "execution_count": 60,
   "metadata": {
    "ExecuteTime": {
     "end_time": "2020-07-28T14:53:25.001135Z",
     "start_time": "2020-07-28T14:53:24.970292Z"
    }
   },
   "outputs": [],
   "source": [
    "autoencoder.compile(optimizer='adadelta', loss='binary_crossentropy')"
   ]
  },
  {
   "cell_type": "code",
   "execution_count": 61,
   "metadata": {
    "ExecuteTime": {
     "end_time": "2020-07-28T14:53:26.838107Z",
     "start_time": "2020-07-28T14:53:26.834862Z"
    }
   },
   "outputs": [],
   "source": [
    "tqdm_callback = TQDMProgressBar(show_epoch_progress=False)"
   ]
  },
  {
   "cell_type": "code",
   "execution_count": 97,
   "metadata": {
    "ExecuteTime": {
     "end_time": "2020-07-28T16:00:21.055320Z",
     "start_time": "2020-07-28T15:58:22.956045Z"
    }
   },
   "outputs": [
    {
     "data": {
      "application/vnd.jupyter.widget-view+json": {
       "model_id": "b9136e5fee564451b896c8d7e061f2e7",
       "version_major": 2,
       "version_minor": 0
      },
      "text/plain": [
       "HBox(children=(FloatProgress(value=0.0, description='Training', layout=Layout(flex='2'), max=1000.0, style=Pro…"
      ]
     },
     "metadata": {},
     "output_type": "display_data"
    },
    {
     "name": "stdout",
     "output_type": "stream",
     "text": [
      "\n"
     ]
    }
   ],
   "source": [
    "history5 = autoencoder.fit(X_train, X_train,\n",
    "                    epochs=1000,\n",
    "                    batch_size=256,\n",
    "                    shuffle=True,\n",
    "                    verbose=0,\n",
    "                    validation_data=(X_test, X_test),\n",
    "                    callbacks=[tqdm_callback])"
   ]
  },
  {
   "cell_type": "code",
   "execution_count": 98,
   "metadata": {
    "ExecuteTime": {
     "end_time": "2020-07-28T16:03:41.224167Z",
     "start_time": "2020-07-28T16:03:40.994006Z"
    }
   },
   "outputs": [
    {
     "data": {
      "image/png": "[encoded data removed]",
      "text/plain": [
       "<Figure size 432x288 with 1 Axes>"
      ]
     },
     "metadata": {
      "needs_background": "light"
     },
     "output_type": "display_data"
    }
   ],
   "source": [
    "history_plot(history5)"
   ]
  },
  {
   "cell_type": "code",
   "execution_count": 139,
   "metadata": {
    "ExecuteTime": {
     "end_time": "2020-07-28T16:21:13.946663Z",
     "start_time": "2020-07-28T16:21:13.748361Z"
    }
   },
   "outputs": [
    {
     "data": {
      "image/png": "[encoded data removed]",
      "text/plain": [
       "<Figure size 432x288 with 1 Axes>"
      ]
     },
     "metadata": {
      "needs_background": "light"
     },
     "output_type": "display_data"
    }
   ],
   "source": [
    "history_plot(history2, history3, history4, history5)"
   ]
  },
  {
   "cell_type": "code",
   "execution_count": 140,
   "metadata": {
    "ExecuteTime": {
     "end_time": "2020-07-28T16:27:43.172631Z",
     "start_time": "2020-07-28T16:27:42.765246Z"
    }
   },
   "outputs": [
    {
     "name": "stdout",
     "output_type": "stream",
     "text": [
      "INFO:tensorflow:Assets written to: saved_models/autoencoder_11500/assets\n"
     ]
    }
   ],
   "source": [
    "autoencoder.save('saved_models/autoencoder_11500')"
   ]
  },
  {
   "cell_type": "code",
   "execution_count": 141,
   "metadata": {
    "ExecuteTime": {
     "end_time": "2020-07-28T16:28:29.270086Z",
     "start_time": "2020-07-28T16:28:29.260518Z"
    }
   },
   "outputs": [
    {
     "name": "stdout",
     "output_type": "stream",
     "text": [
      "Model: \"model\"\n",
      "_________________________________________________________________\n",
      "Layer (type)                 Output Shape              Param #   \n",
      "=================================================================\n",
      "input_2 (InputLayer)         [(None, 745)]             0         \n",
      "_________________________________________________________________\n",
      "dense_1 (Dense)              (None, 16)                11936     \n",
      "_________________________________________________________________\n",
      "dense_2 (Dense)              (None, 745)               12665     \n",
      "=================================================================\n",
      "Total params: 24,601\n",
      "Trainable params: 24,601\n",
      "Non-trainable params: 0\n",
      "_________________________________________________________________\n"
     ]
    }
   ],
   "source": [
    "autoencoder.summary()"
   ]
  },
  {
   "cell_type": "code",
   "execution_count": null,
   "metadata": {},
   "outputs": [],
   "source": []
  }
 ],
 "metadata": {
  "kernelspec": {
   "display_name": "tensorflow2",
   "language": "python",
   "name": "tensorflow2"
  },
  "language_info": {
   "codemirror_mode": {
    "name": "ipython",
    "version": 3
   },
   "file_extension": ".py",
   "mimetype": "text/x-python",
   "name": "python",
   "nbconvert_exporter": "python",
   "pygments_lexer": "ipython3",
   "version": "3.7.7"
  },
  "varInspector": {
   "cols": {
    "lenName": 16,
    "lenType": 16,
    "lenVar": 40
   },
   "kernels_config": {
    "python": {
     "delete_cmd_postfix": "",
     "delete_cmd_prefix": "del ",
     "library": "var_list.py",
     "varRefreshCmd": "print(var_dic_list())"
    },
    "r": {
     "delete_cmd_postfix": ") ",
     "delete_cmd_prefix": "rm(",
     "library": "var_list.r",
     "varRefreshCmd": "cat(var_dic_list()) "
    }
   },
   "types_to_exclude": [
    "module",
    "function",
    "builtin_function_or_method",
    "instance",
    "_Feature"
   ],
   "window_display": false
  }
 },
 "nbformat": 4,
 "nbformat_minor": 2
}
