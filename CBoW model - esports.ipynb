{
 "cells": [
  {
   "cell_type": "code",
   "execution_count": 1,
   "metadata": {
    "ExecuteTime": {
     "end_time": "2020-08-07T23:30:27.498281Z",
     "start_time": "2020-08-07T23:30:21.394046Z"
    }
   },
   "outputs": [],
   "source": [
    "import pandas as pd\n",
    "import tensorflow as tf\n",
    "from sklearn.preprocessing import label_binarize\n",
    "from sklearn.model_selection import train_test_split\n",
    "import json\n",
    "from tensorflow_addons.callbacks import TQDMProgressBar\n",
    "import matplotlib.pyplot as plt\n",
    "import ast\n",
    "from tqdm.notebook import tqdm\n",
    "from focal_loss import BinaryFocalLoss"
   ]
  },
  {
   "cell_type": "code",
   "execution_count": 2,
   "metadata": {
    "ExecuteTime": {
     "end_time": "2020-08-07T23:30:29.205697Z",
     "start_time": "2020-08-07T23:30:29.195065Z"
    }
   },
   "outputs": [],
   "source": [
    "def history_plot(*args, metric='loss'):\n",
    "    if len(args) > 1:\n",
    "        sum_list = []\n",
    "        for x in args:\n",
    "            sum_list += x.history[metric]\n",
    "        val_sum_list = []\n",
    "        for x in args:\n",
    "            val_sum_list += x.history['val_' + metric]\n",
    "        plt.plot(sum_list)\n",
    "        plt.plot(val_sum_list)\n",
    "        plt.title('model loss')\n",
    "        plt.ylabel('loss')\n",
    "        plt.xlabel('epoch')\n",
    "        plt.legend(['train', 'test'], loc='upper left')\n",
    "        plt.show()\n",
    "    else:\n",
    "        history = args[0]\n",
    "        plt.plot(history.history['loss'])\n",
    "        plt.plot(history.history['val_loss'])\n",
    "        plt.title('model loss')\n",
    "        plt.ylabel('loss')\n",
    "        plt.xlabel('epoch')\n",
    "        plt.legend(['train', 'test'], loc='upper left')\n",
    "        plt.show()"
   ]
  },
  {
   "cell_type": "code",
   "execution_count": 3,
   "metadata": {
    "ExecuteTime": {
     "end_time": "2020-08-07T23:30:29.673813Z",
     "start_time": "2020-08-07T23:30:29.667483Z"
    }
   },
   "outputs": [],
   "source": [
    "def to_one_hot_drop(comp_list):\n",
    "    X_out = np.zeros((len(comp_list)*5, 745))\n",
    "    y_out = np.zeros((len(comp_list)*5, 149))\n",
    "    for i, x in tqdm(enumerate(comp_list)):\n",
    "        array = label_binarize(x, classes=range(149)).flatten()\n",
    "        for drop_i in range(5):\n",
    "            y_out[i*5 + drop_i] = array[drop_i*149:(drop_i+1)*149]\n",
    "            X_out[i*5 + drop_i] = array\n",
    "            X_out[i*5 + drop_i, drop_i*149:(drop_i+1)*149] = 0\n",
    "    return X_out, y_out"
   ]
  },
  {
   "cell_type": "code",
   "execution_count": 4,
   "metadata": {
    "ExecuteTime": {
     "end_time": "2020-08-07T23:30:29.899888Z",
     "start_time": "2020-08-07T23:30:29.897204Z"
    }
   },
   "outputs": [],
   "source": [
    "def get_top_5_ch(array):\n",
    "    return [champion_index[np.argmax(sub_array)] for sub_array in np.split(array, 5)]"
   ]
  },
  {
   "cell_type": "code",
   "execution_count": 5,
   "metadata": {
    "ExecuteTime": {
     "end_time": "2020-08-07T23:30:30.193800Z",
     "start_time": "2020-08-07T23:30:30.189384Z"
    }
   },
   "outputs": [],
   "source": [
    "def get_top_5(array):\n",
    "    return [np.argmax(sub_array) for sub_array in np.split(array, 5)]"
   ]
  },
  {
   "cell_type": "code",
   "execution_count": 6,
   "metadata": {
    "ExecuteTime": {
     "end_time": "2020-08-07T23:30:30.964054Z",
     "start_time": "2020-08-07T23:30:30.958621Z"
    }
   },
   "outputs": [],
   "source": [
    "def model_eval(test, test_hat):\n",
    "    test_id = get_top_5(test)\n",
    "    print('Test composition: '+str(get_top_5_ch(test)))\n",
    "    print('Predicted composition: '+str(get_top_5_ch(test_hat)))\n",
    "\n",
    "    error = [np.argwhere(np.sort(sub_array)[::-1] == sub_array[test_id[i]])[0][0] for i, sub_array in enumerate(np.split(test_hat, 5))]\n",
    "    print('Predicted rank of test champions: '+str(error))"
   ]
  },
  {
   "cell_type": "code",
   "execution_count": 7,
   "metadata": {
    "ExecuteTime": {
     "end_time": "2020-08-07T23:30:31.818321Z",
     "start_time": "2020-08-07T23:30:31.811999Z"
    }
   },
   "outputs": [],
   "source": [
    "def rank_eval(y_test, y_test_hat):\n",
    "    y_hat_rank = [np.argwhere(np.sort(y_test_hat[i])[::-1] == y_test_hat[i,np.argmax(y_test[i])])[0][0] for i in range(len(y_test))]\n",
    "\n",
    "    print('Average prediction rank: ' + str(np.mean(y_hat_rank)))\n",
    "\n",
    "    print('No. of correct predictions: ' + str(y_hat_rank.count(0)))"
   ]
  },
  {
   "cell_type": "code",
   "execution_count": 8,
   "metadata": {
    "ExecuteTime": {
     "end_time": "2020-08-07T23:30:32.373222Z",
     "start_time": "2020-08-07T23:30:32.368379Z"
    }
   },
   "outputs": [],
   "source": [
    "def rank(y_test,y_test_hat):\n",
    "    return np.argwhere(np.sort(y_test_hat)[::-1] == y_test_hat[np.argmax(y_test)])[0][0]"
   ]
  },
  {
   "cell_type": "code",
   "execution_count": 9,
   "metadata": {
    "ExecuteTime": {
     "end_time": "2020-08-07T23:31:18.063516Z",
     "start_time": "2020-08-07T23:31:17.891909Z"
    }
   },
   "outputs": [],
   "source": [
    "champion_index = list(pd.read_csv('processed_data/chamion_index.csv', index_col=0).values.flatten())\n",
    "\n",
    "champion_dict = {y:i for i,y in enumerate(champion_index)}\n",
    "\n",
    "df = pd.read_csv('processed_data/esports_data.csv')\n",
    "\n",
    "df.champions = df.champions.apply(lambda x: ast.literal_eval(x))\n",
    "\n",
    "df['champion_ids'] = df.champions.apply(lambda x: [champion_dict[y] for y in x])\n",
    "\n",
    "df = df.drop_duplicates(subset=['team', 'id', 'win']).copy()"
   ]
  },
  {
   "cell_type": "code",
   "execution_count": 10,
   "metadata": {
    "ExecuteTime": {
     "end_time": "2020-08-07T23:31:19.989165Z",
     "start_time": "2020-08-07T23:31:19.984408Z"
    }
   },
   "outputs": [],
   "source": [
    "inv_champion_dict = {v:k for k,v in champion_dict.items()}"
   ]
  },
  {
   "cell_type": "code",
   "execution_count": 20,
   "metadata": {
    "ExecuteTime": {
     "end_time": "2020-08-04T12:08:10.918396Z",
     "start_time": "2020-08-04T12:08:10.777454Z"
    }
   },
   "outputs": [],
   "source": [
    "df_champ_expanded = pd.DataFrame.from_records(df.champions.values, columns=['TOP', 'JUNGLE', 'MIDDLE', 'BOTTOM', 'SUPPORT'])\n",
    "\n",
    "df_champ_counts = df_champ_expanded.apply(lambda x :x.value_counts())"
   ]
  },
  {
   "cell_type": "code",
   "execution_count": 11,
   "metadata": {
    "ExecuteTime": {
     "end_time": "2020-08-07T23:31:30.523919Z",
     "start_time": "2020-08-07T23:31:27.988232Z"
    }
   },
   "outputs": [
    {
     "data": {
      "application/vnd.jupyter.widget-view+json": {
       "model_id": "2ba8f4aa02154bdb9f3d75235e06cce0",
       "version_major": 2,
       "version_minor": 0
      },
      "text/plain": [
       "HBox(children=(FloatProgress(value=1.0, bar_style='info', max=1.0), HTML(value='')))"
      ]
     },
     "metadata": {},
     "output_type": "display_data"
    },
    {
     "name": "stdout",
     "output_type": "stream",
     "text": [
      "\n"
     ]
    }
   ],
   "source": [
    "X, y = to_one_hot_drop(list(df.champion_ids))"
   ]
  },
  {
   "cell_type": "code",
   "execution_count": 12,
   "metadata": {
    "ExecuteTime": {
     "end_time": "2020-08-07T23:31:33.806326Z",
     "start_time": "2020-08-07T23:31:33.800300Z"
    }
   },
   "outputs": [
    {
     "data": {
      "text/plain": [
       "(46610, 745)"
      ]
     },
     "execution_count": 12,
     "metadata": {},
     "output_type": "execute_result"
    }
   ],
   "source": [
    "X.shape"
   ]
  },
  {
   "cell_type": "code",
   "execution_count": 13,
   "metadata": {
    "ExecuteTime": {
     "end_time": "2020-08-07T23:31:34.976063Z",
     "start_time": "2020-08-07T23:31:34.970556Z"
    }
   },
   "outputs": [
    {
     "data": {
      "text/plain": [
       "(46610, 149)"
      ]
     },
     "execution_count": 13,
     "metadata": {},
     "output_type": "execute_result"
    }
   ],
   "source": [
    "y.shape"
   ]
  },
  {
   "cell_type": "code",
   "execution_count": 13,
   "metadata": {
    "ExecuteTime": {
     "end_time": "2020-08-06T14:09:25.670319Z",
     "start_time": "2020-08-06T14:09:25.643489Z"
    }
   },
   "outputs": [],
   "source": [
    "X_train, X_test, y_train, y_test = train_test_split(X, y, test_size=0.1, random_state=100)"
   ]
  },
  {
   "cell_type": "code",
   "execution_count": 56,
   "metadata": {
    "ExecuteTime": {
     "end_time": "2020-08-06T16:41:30.521510Z",
     "start_time": "2020-08-06T16:41:30.495573Z"
    }
   },
   "outputs": [],
   "source": [
    "CBoW = tf.keras.Sequential()\n",
    "\n",
    "CBoW.add(tf.keras.layers.Dense(16, activation='relu', input_shape=(745,)))\n",
    "CBoW.add(tf.keras.layers.Dense(149, activation='softmax'))"
   ]
  },
  {
   "cell_type": "code",
   "execution_count": 61,
   "metadata": {
    "ExecuteTime": {
     "end_time": "2020-08-06T16:42:00.667477Z",
     "start_time": "2020-08-06T16:42:00.654095Z"
    }
   },
   "outputs": [],
   "source": [
    "CBoW.compile(loss=BinaryFocalLoss(gamma=2), optimizer='adadelta', metrics=['mae', 'mse'])"
   ]
  },
  {
   "cell_type": "code",
   "execution_count": 58,
   "metadata": {
    "ExecuteTime": {
     "end_time": "2020-08-06T16:41:31.310727Z",
     "start_time": "2020-08-06T16:41:31.307455Z"
    }
   },
   "outputs": [],
   "source": [
    "tqdm_callback = TQDMProgressBar(show_epoch_progress=False)"
   ]
  },
  {
   "cell_type": "code",
   "execution_count": 59,
   "metadata": {
    "ExecuteTime": {
     "end_time": "2020-08-06T16:41:31.906336Z",
     "start_time": "2020-08-06T16:41:31.730951Z"
    }
   },
   "outputs": [
    {
     "name": "stdout",
     "output_type": "stream",
     "text": [
      "15/15 [==============================] - 0s 1ms/step - loss: 0.0331 - mae: 0.0133 - mse: 0.0067\n"
     ]
    },
    {
     "data": {
      "text/plain": [
       "[0.03314734250307083, 0.0133328502997756, 0.006666527129709721]"
      ]
     },
     "execution_count": 59,
     "metadata": {},
     "output_type": "execute_result"
    }
   ],
   "source": [
    "CBoW.evaluate(X_test, y_test)"
   ]
  },
  {
   "cell_type": "code",
   "execution_count": 100,
   "metadata": {
    "ExecuteTime": {
     "end_time": "2020-08-07T21:55:35.403156Z",
     "start_time": "2020-08-07T13:18:09.144737Z"
    }
   },
   "outputs": [
    {
     "data": {
      "application/vnd.jupyter.widget-view+json": {
       "model_id": "69e8160159824efda1e9bf06e7dc6add",
       "version_major": 2,
       "version_minor": 0
      },
      "text/plain": [
       "HBox(children=(FloatProgress(value=0.0, description='Training', layout=Layout(flex='2'), max=80000.0, style=Pr…"
      ]
     },
     "metadata": {},
     "output_type": "display_data"
    },
    {
     "name": "stdout",
     "output_type": "stream",
     "text": [
      "\n"
     ]
    }
   ],
   "source": [
    "history6 = CBoW.fit(X_train, y_train,\n",
    "                    epochs=80000,\n",
    "                    batch_size=8,\n",
    "                    shuffle=True,\n",
    "                    verbose=0,\n",
    "                    validation_data=(X_test, y_test),\n",
    "                    callbacks=[tqdm_callback])"
   ]
  },
  {
   "cell_type": "code",
   "execution_count": 101,
   "metadata": {
    "ExecuteTime": {
     "end_time": "2020-08-07T23:20:42.538622Z",
     "start_time": "2020-08-07T23:20:42.464540Z"
    }
   },
   "outputs": [
    {
     "name": "stdout",
     "output_type": "stream",
     "text": [
      "15/15 [==============================] - 0s 2ms/step - loss: 0.0254 - mae: 0.0128 - mse: 0.0065\n"
     ]
    },
    {
     "data": {
      "text/plain": [
       "[0.025443701073527336, 0.012821344658732414, 0.006502083037048578]"
      ]
     },
     "execution_count": 101,
     "metadata": {},
     "output_type": "execute_result"
    }
   ],
   "source": [
    "CBoW.evaluate(X_test, y_test)"
   ]
  },
  {
   "cell_type": "code",
   "execution_count": 102,
   "metadata": {
    "ExecuteTime": {
     "end_time": "2020-08-07T23:20:54.807639Z",
     "start_time": "2020-08-07T23:20:54.379898Z"
    }
   },
   "outputs": [
    {
     "data": {
      "image/png": "[encoded data removed]",
      "text/plain": [
       "<Figure size 432x288 with 1 Axes>"
      ]
     },
     "metadata": {
      "needs_background": "light"
     },
     "output_type": "display_data"
    }
   ],
   "source": [
    "history_plot(history1, history2, history3, history4, history5, history6)"
   ]
  },
  {
   "cell_type": "code",
   "execution_count": 46,
   "metadata": {
    "ExecuteTime": {
     "end_time": "2020-08-06T16:01:29.343167Z",
     "start_time": "2020-08-06T16:01:28.863820Z"
    }
   },
   "outputs": [
    {
     "data": {
      "image/png": "[encoded data removed]",
      "text/plain": [
       "<Figure size 432x288 with 1 Axes>"
      ]
     },
     "metadata": {
      "needs_background": "light"
     },
     "output_type": "display_data"
    }
   ],
   "source": [
    "history_plot(history1, history2, history3)"
   ]
  },
  {
   "cell_type": "code",
   "execution_count": 103,
   "metadata": {
    "ExecuteTime": {
     "end_time": "2020-08-07T23:21:36.405900Z",
     "start_time": "2020-08-07T23:21:36.017601Z"
    }
   },
   "outputs": [
    {
     "name": "stdout",
     "output_type": "stream",
     "text": [
      "INFO:tensorflow:Assets written to: saved_models/CBoW_focal_loss_240000/assets\n"
     ]
    }
   ],
   "source": [
    "CBoW.save('saved_models/CBoW_focal_loss_240000')"
   ]
  },
  {
   "cell_type": "code",
   "execution_count": 104,
   "metadata": {
    "ExecuteTime": {
     "end_time": "2020-08-07T23:21:41.206077Z",
     "start_time": "2020-08-07T23:21:41.165215Z"
    }
   },
   "outputs": [],
   "source": [
    "y_test_hat = CBoW.predict(X_test)"
   ]
  },
  {
   "cell_type": "code",
   "execution_count": 105,
   "metadata": {
    "ExecuteTime": {
     "end_time": "2020-08-07T23:21:45.329174Z",
     "start_time": "2020-08-07T23:21:45.309352Z"
    }
   },
   "outputs": [
    {
     "name": "stdout",
     "output_type": "stream",
     "text": [
      "Average prediction rank: 22.92207792207792\n",
      "No. of correct predictions: 38\n"
     ]
    }
   ],
   "source": [
    "rank_eval(y_test, y_test_hat)"
   ]
  },
  {
   "cell_type": "code",
   "execution_count": 33,
   "metadata": {
    "ExecuteTime": {
     "end_time": "2020-08-04T13:01:53.390374Z",
     "start_time": "2020-08-04T13:01:53.384520Z"
    }
   },
   "outputs": [
    {
     "name": "stdout",
     "output_type": "stream",
     "text": [
      "Model: \"sequential_1\"\n",
      "_________________________________________________________________\n",
      "Layer (type)                 Output Shape              Param #   \n",
      "=================================================================\n",
      "dense (Dense)                (None, 16)                11936     \n",
      "_________________________________________________________________\n",
      "dense_1 (Dense)              (None, 149)               2533      \n",
      "=================================================================\n",
      "Total params: 14,469\n",
      "Trainable params: 14,469\n",
      "Non-trainable params: 0\n",
      "_________________________________________________________________\n"
     ]
    }
   ],
   "source": [
    "CBoW.summary()"
   ]
  },
  {
   "cell_type": "code",
   "execution_count": 97,
   "metadata": {
    "ExecuteTime": {
     "end_time": "2020-08-07T13:06:29.757845Z",
     "start_time": "2020-08-07T13:06:29.750201Z"
    }
   },
   "outputs": [
    {
     "data": {
      "text/plain": [
       "array([ 43,   7, 102,  50,  85,  62,  86, 101,   7,  27, 114, 114,  62,\n",
       "        79,  85,  24,  43,  86,   7,  62, 101,  86,  43,  67,  14,  67,\n",
       "       102,  63, 142, 120, 142,  86,   7, 102, 128,   7,  62, 102, 114,\n",
       "       114,  43, 102, 102, 140,  43,  50,  27,  62, 102,  86, 102,  62,\n",
       "        67, 102, 113, 114, 101,  63,  27,  62, 113,  86,  14, 114,  27,\n",
       "        86,  63,  43,  36,  73, 114, 101,  62,  86, 101,  43,  24,  62,\n",
       "        79,  86,  86,   7,  24,  62, 114,  86, 120, 135,  67, 142,  84,\n",
       "        67, 120,   7,  50,  48,  50, 142,  73,   7,  86, 142,  63, 114,\n",
       "        86,  36,   0,  62, 102, 120, 122, 114, 102, 142,  86,  86, 102,\n",
       "        36, 102, 113, 142, 122, 142, 102, 122,  62,   7, 114,  73,   7,\n",
       "        86,  73,  27,  86,  50, 102, 114,  27,  43,  43, 114, 142, 114,\n",
       "       101,   7, 114,  36,  62,   7,  86,   7,  85,  27,  43, 102,  63,\n",
       "        43,  36, 101, 120,  43,  86,  86, 102, 120,  86, 120, 102,  36,\n",
       "        62,  36,   7, 114, 120, 142,  36, 120, 114,  86,  86,  27, 114,\n",
       "       142,  24,   7,  43,  27, 114,  62, 102,  27,   7, 120,  86,  43,\n",
       "       114, 102, 120,   7,  73,  27, 142,  62,  86,  86,  27,  14,  27,\n",
       "       142,  84,  67, 142,  75,  67, 114,  27,  27,   7, 102, 102,  73,\n",
       "       101,  86, 114, 101,  50, 120, 114, 102,  62,  84,  62,  27,  86,\n",
       "         7, 122, 142,  67, 142, 114,  67,  62, 128,   7,  27,  50, 102,\n",
       "       102,  86, 122, 114, 129,  86,  27,  62,  27,  63,  27,  27,  43,\n",
       "        86,  62, 114,  50,  50, 102, 120,  24, 114, 102, 114,  86,  62,\n",
       "        43,  43,  50,  86,   7,  24,  79,  62, 102,  62, 114,  36,   7,\n",
       "        43,  50, 120, 120, 142, 102,  62,  79, 135,  62, 142, 120,  43,\n",
       "       122,  27,  63,  27, 122,  27, 114, 113,  43,  86,  67,  75, 120,\n",
       "        86, 122, 101,  67,  86,   7,  73,  86,  79, 114,  27, 120, 120,\n",
       "       142, 114,  43,  62,  86,  50,   7,  73,  27, 102, 142,   7,   0,\n",
       "       113,  73, 114, 102,  62, 102,  62,  86,  24, 102,  27,  62,  50,\n",
       "       128,  86, 137, 122,  43,  86,   7,  67,  36,  62, 120,  67,  50,\n",
       "        62,  75,  62,  84, 102,  27, 101, 120,   7,  86,  50,  73,  24,\n",
       "        27, 120, 129,  14,  86,  86, 120, 142, 102, 128,  86,  86,  43,\n",
       "        36,  86,  36,   7, 113,  43, 101,  24,  36,   7, 102, 114,  43,\n",
       "        27,  27, 114, 142,  79, 122,  86,   7,  67,  25,  86,  86, 114,\n",
       "        27,   7, 120, 142,  43,  50,  27,   7, 102,  24,  63,  27, 102,\n",
       "        27, 101,  79, 142,  36,  67,   7,  62,  73,  62,  62,  50, 122,\n",
       "        36, 102,   7, 102, 101,  27,  86,  24,   7, 142,  63,  62, 101,\n",
       "        14,  24, 120, 101, 102,  27,  24])"
      ]
     },
     "execution_count": 97,
     "metadata": {},
     "output_type": "execute_result"
    }
   ],
   "source": [
    "np.argmax(y_test_hat, axis=1)"
   ]
  },
  {
   "cell_type": "code",
   "execution_count": 106,
   "metadata": {
    "ExecuteTime": {
     "end_time": "2020-08-07T23:22:02.493206Z",
     "start_time": "2020-08-07T23:22:02.485014Z"
    }
   },
   "outputs": [
    {
     "data": {
      "text/plain": [
       "array([ 43,   7,   0, 114,  85,  84,   0, 101,   7,  27, 114, 114,  24,\n",
       "        79, 114,  24,  43,  86,   7,  62, 101,  86,  43,  67,  14,  67,\n",
       "       102,  25, 142, 120,  35, 135,   7, 135, 128,  60,  62, 102, 114,\n",
       "       114,  79,  71, 102, 140,  84,  50,  27, 122,  86,  86,  71,  62,\n",
       "        67, 114, 114, 114, 142,  76,  27,   0, 113,  86,  14, 114,  27,\n",
       "        86,  63,  36,  36,  15, 114, 101,  62,  86, 101, 122,  24,  24,\n",
       "        79,  86,  86,   7,  24, 102, 114,  86, 102, 122,  67, 142,  84,\n",
       "        67, 120,  15,  50,  48,  50,  43,  73,   7,  71, 142,  14, 114,\n",
       "       135,  36,  75,  84,  74, 120, 122, 114, 102, 142, 102,  86, 102,\n",
       "       122, 113, 135,  50, 122, 142, 102, 122,  62,   7, 114,  73,   7,\n",
       "        74, 128,  27,  86,  50, 102, 114,  27,  43,  25, 114, 142, 113,\n",
       "        15,  15, 114,  36,  62,   7,  74,   7,  85,  27,  43, 135,  14,\n",
       "        43,  36, 120, 142,  43,  86,  86, 102,  14,  86,  14,  84,  36,\n",
       "       135,  36,   7,  85, 120, 142,  36, 120, 114,  86,  86,  27, 114,\n",
       "        92,  24,   7,  24,  27, 114,  62, 102,  27, 128, 120,  86,  43,\n",
       "        21,  86,  50,   7,  73,  27, 142,  62,  86,  86,  27,  14,  27,\n",
       "       142,  84,  67, 142,  95,  67, 114, 101,  27,   7, 102,  85,  73,\n",
       "       101,  86,  85, 101,  50, 120, 114, 102, 122,  84,  62,  27,   0,\n",
       "         7, 122,  84, 142, 142, 114,  79,  62, 128,   7,  27,  50,  86,\n",
       "       113, 135, 113, 114, 122,  86, 101,  62,  27,  63,  27,  27,  43,\n",
       "        86,  62, 114,  50,  50, 102, 120,  25, 114, 135, 114,  86,  36,\n",
       "        43,  43,  50,  86, 101,  24,  79,  62,   0,  84, 114,  36,   7,\n",
       "        25,  50,  14, 142,  62, 102,  62,  79, 135,  62,  25, 120,  43,\n",
       "       122,  27,  79,   7, 114, 114, 114,  50,  43,  86,  67,  75, 120,\n",
       "        86, 122, 101,  43,  86,   7,   7,   0,  79, 134,  27, 120, 120,\n",
       "       142,  85,  24,  62,  86,  50,   7,  27,   7, 102, 142, 129, 114,\n",
       "       113,  15, 114, 102,  62,  86,  43,  86,  24, 102,  27,  62,  50,\n",
       "       128,  86, 137,  25,  43,  75,   7,  67,  36,  62,  79,  67,  50,\n",
       "        62,  75,  62,  84, 102,  27, 101, 120,   7,  50,  50,   7,  24,\n",
       "        27, 120,  24,  14,  86,  86,  50, 142, 102, 128,  20,  74,  43,\n",
       "        43,  86,  24,  73, 113,  43, 101, 114,  36,  73, 102, 114,  43,\n",
       "       128,  27, 114, 142,  79, 122,  86,  73,  67,  25,  86,  86, 114,\n",
       "         7,   7,  79, 142, 114,  50,   7, 128, 135,  84,  63,  27, 102,\n",
       "       129, 101,  24, 142,  36,  67,   7,  62, 128,  62,  62,  67, 122,\n",
       "        36, 102,  73, 140, 101,  27,  95,  24,   7, 142,  63,  62, 101,\n",
       "        14, 113, 120, 101, 102,  73,  24])"
      ]
     },
     "execution_count": 106,
     "metadata": {},
     "output_type": "execute_result"
    }
   ],
   "source": [
    "np.argmax(y_test_hat, axis=1)"
   ]
  },
  {
   "cell_type": "code",
   "execution_count": 108,
   "metadata": {
    "ExecuteTime": {
     "end_time": "2020-08-07T23:22:43.917828Z",
     "start_time": "2020-08-07T23:22:43.909895Z"
    }
   },
   "outputs": [
    {
     "data": {
      "text/plain": [
       "42"
      ]
     },
     "execution_count": 108,
     "metadata": {},
     "output_type": "execute_result"
    }
   ],
   "source": [
    "len([inv_champion_dict[x] for x in np.unique(np.argmax(y_test_hat, axis=1))])"
   ]
  },
  {
   "cell_type": "code",
   "execution_count": 109,
   "metadata": {
    "ExecuteTime": {
     "end_time": "2020-08-07T23:22:55.187644Z",
     "start_time": "2020-08-07T23:22:55.180330Z"
    }
   },
   "outputs": [
    {
     "data": {
      "text/plain": [
       "31"
      ]
     },
     "execution_count": 109,
     "metadata": {},
     "output_type": "execute_result"
    }
   ],
   "source": [
    "len(Out[98])"
   ]
  },
  {
   "cell_type": "code",
   "execution_count": 98,
   "metadata": {
    "ExecuteTime": {
     "end_time": "2020-08-07T13:06:39.244278Z",
     "start_time": "2020-08-07T13:06:39.237228Z"
    }
   },
   "outputs": [
    {
     "data": {
      "text/plain": [
       "['Aatrox',\n",
       " 'Aphelios',\n",
       " 'Braum',\n",
       " 'Ekko',\n",
       " 'Elise',\n",
       " 'Ezreal',\n",
       " 'Graves',\n",
       " 'Jarvan IV',\n",
       " \"Kai'Sa\",\n",
       " 'Karma',\n",
       " 'Lee Sin',\n",
       " 'Leona',\n",
       " 'Lulu',\n",
       " 'Miss Fortune',\n",
       " 'Mordekaiser',\n",
       " 'Nautilus',\n",
       " 'Olaf',\n",
       " 'Orianna',\n",
       " 'Ornn',\n",
       " 'Senna',\n",
       " 'Sett',\n",
       " 'Sylas',\n",
       " 'Syndra',\n",
       " 'Thresh',\n",
       " 'Trundle',\n",
       " 'Varus',\n",
       " 'Vayne',\n",
       " 'Volibear',\n",
       " 'Xayah',\n",
       " 'Yasuo',\n",
       " 'Yuumi']"
      ]
     },
     "execution_count": 98,
     "metadata": {},
     "output_type": "execute_result"
    }
   ],
   "source": [
    "[inv_champion_dict[x] for x in np.unique(np.argmax(y_test_hat, axis=1))]"
   ]
  },
  {
   "cell_type": "code",
   "execution_count": 27,
   "metadata": {
    "ExecuteTime": {
     "end_time": "2020-08-06T14:28:27.767447Z",
     "start_time": "2020-08-06T14:28:27.761050Z"
    }
   },
   "outputs": [
    {
     "data": {
      "text/plain": [
       "array([[0.00694902, 0.00671477, 0.00634038, ..., 0.00641056, 0.00679828,\n",
       "        0.00644571],\n",
       "       [0.00688413, 0.006406  , 0.00653308, ..., 0.00660546, 0.00669175,\n",
       "        0.00657911],\n",
       "       [0.00693451, 0.00667581, 0.00663656, ..., 0.00620386, 0.00646717,\n",
       "        0.00636737],\n",
       "       ...,\n",
       "       [0.00688245, 0.00653517, 0.00657387, ..., 0.00648784, 0.0067426 ,\n",
       "        0.00667167],\n",
       "       [0.00703866, 0.0069394 , 0.00653902, ..., 0.00669036, 0.0063172 ,\n",
       "        0.00652657],\n",
       "       [0.00702228, 0.00675653, 0.00682039, ..., 0.00643201, 0.00640932,\n",
       "        0.00662966]], dtype=float32)"
      ]
     },
     "execution_count": 27,
     "metadata": {},
     "output_type": "execute_result"
    }
   ],
   "source": [
    "y_test_hat"
   ]
  },
  {
   "cell_type": "code",
   "execution_count": null,
   "metadata": {},
   "outputs": [],
   "source": []
  }
 ],
 "metadata": {
  "kernelspec": {
   "display_name": "tensorflow2",
   "language": "python",
   "name": "tensorflow2"
  },
  "language_info": {
   "codemirror_mode": {
    "name": "ipython",
    "version": 3
   },
   "file_extension": ".py",
   "mimetype": "text/x-python",
   "name": "python",
   "nbconvert_exporter": "python",
   "pygments_lexer": "ipython3",
   "version": "3.7.7"
  },
  "varInspector": {
   "cols": {
    "lenName": 16,
    "lenType": 16,
    "lenVar": 40
   },
   "kernels_config": {
    "python": {
     "delete_cmd_postfix": "",
     "delete_cmd_prefix": "del ",
     "library": "var_list.py",
     "varRefreshCmd": "print(var_dic_list())"
    },
    "r": {
     "delete_cmd_postfix": ") ",
     "delete_cmd_prefix": "rm(",
     "library": "var_list.r",
     "varRefreshCmd": "cat(var_dic_list()) "
    }
   },
   "types_to_exclude": [
    "module",
    "function",
    "builtin_function_or_method",
    "instance",
    "_Feature"
   ],
   "window_display": false
  }
 },
 "nbformat": 4,
 "nbformat_minor": 2
}
