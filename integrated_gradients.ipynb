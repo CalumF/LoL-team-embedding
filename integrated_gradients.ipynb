{
 "cells": [
  {
   "cell_type": "markdown",
   "metadata": {},
   "source": [
    "### Intergrated Gradients\n",
    "\n",
    "From the paper [Axiomatic Attribution for Deep Networks](https://arxiv.org/pdf/1703.01365.pdf), Intergrated Gradients is a method for attribution of feature importance based on the line intergral of the output w.r.t the input dimensions over the straigthline path from the baseline to the input in question.\n",
    "\n",
    "My implementation used the [Tensorflow tutorial](https://www.tensorflow.org/tutorials/interpretability/integrated_gradients)."
   ]
  },
  {
   "cell_type": "code",
   "execution_count": 4,
   "metadata": {
    "ExecuteTime": {
     "end_time": "2020-08-13T16:50:47.873385Z",
     "start_time": "2020-08-13T16:50:47.870817Z"
    }
   },
   "outputs": [],
   "source": [
    "import tensorflow as tf\n",
    "from focal_loss import BinaryFocalLoss"
   ]
  },
  {
   "cell_type": "code",
   "execution_count": 5,
   "metadata": {
    "ExecuteTime": {
     "end_time": "2020-08-13T16:50:48.992109Z",
     "start_time": "2020-08-13T16:50:48.770060Z"
    }
   },
   "outputs": [],
   "source": [
    "model = tf.keras.models.load_model('saved_models/CBoW_focal_loss_w_esports_9000')"
   ]
  },
  {
   "cell_type": "code",
   "execution_count": 18,
   "metadata": {
    "ExecuteTime": {
     "end_time": "2020-08-13T17:07:42.454522Z",
     "start_time": "2020-08-13T17:07:42.416358Z"
    }
   },
   "outputs": [
    {
     "data": {
      "text/plain": [
       "1.0000000492436811"
      ]
     },
     "execution_count": 18,
     "metadata": {},
     "output_type": "execute_result"
    }
   ],
   "source": [
    "sum(sum(model.predict((tf.zeros((1,745))))))"
   ]
  },
  {
   "cell_type": "code",
   "execution_count": 19,
   "metadata": {
    "ExecuteTime": {
     "end_time": "2020-08-13T17:07:43.227306Z",
     "start_time": "2020-08-13T17:07:43.202739Z"
    }
   },
   "outputs": [
    {
     "data": {
      "text/plain": [
       "<tf.Tensor: shape=(), dtype=float32, numpy=1.0000002>"
      ]
     },
     "execution_count": 19,
     "metadata": {},
     "output_type": "execute_result"
    }
   ],
   "source": [
    "sum(sum(model(tf.zeros((1,745)))))"
   ]
  },
  {
   "cell_type": "code",
   "execution_count": 10,
   "metadata": {
    "ExecuteTime": {
     "end_time": "2020-08-13T17:01:34.204616Z",
     "start_time": "2020-08-13T17:01:34.195126Z"
    }
   },
   "outputs": [],
   "source": [
    "def input_path_interpolation(baseline, input_vec, alphas):    \n",
    "    alphas_x = alphas[:, tf.newaxis]\n",
    "    input_x = tf.expand_dims(input_vec, axis=0)\n",
    "    baseline_x = tf.expand_dims(baseline, axis=0)\n",
    "    \n",
    "    delta = input_x - baseline_x\n",
    "    interpolated_vec = baseline_x + alphas_x * delta\n",
    "    \n",
    "    return interpolated_vec"
   ]
  },
  {
   "cell_type": "code",
   "execution_count": 20,
   "metadata": {
    "ExecuteTime": {
     "end_time": "2020-08-13T17:10:52.924579Z",
     "start_time": "2020-08-13T17:10:52.914532Z"
    }
   },
   "outputs": [],
   "source": [
    "def compute_gradients(inputs, target_class_idx):\n",
    "    with tf.GradientTape() as tape:\n",
    "        tape.watch(inputs)\n",
    "        logits = model(inputs)\n",
    "        probs = tf.nn.softmax(logits, axis=-1)[:, target_class_idx]\n",
    "    return tape.gradient(probs, inputs)"
   ]
  },
  {
   "cell_type": "code",
   "execution_count": 26,
   "metadata": {
    "ExecuteTime": {
     "end_time": "2020-08-13T17:38:40.889588Z",
     "start_time": "2020-08-13T17:38:40.878226Z"
    }
   },
   "outputs": [],
   "source": [
    "def integral_approximation(gradients):\n",
    "    grads = (gradients[:-1] + gradients[1:]) / tf.constant(2.0)\n",
    "    integrated_gradients = tf.math.reduce_mean(grads, axis=0)\n",
    "    return integrated_gradients"
   ]
  },
  {
   "cell_type": "code",
   "execution_count": 28,
   "metadata": {
    "ExecuteTime": {
     "end_time": "2020-08-13T17:52:31.811645Z",
     "start_time": "2020-08-13T17:52:31.804566Z"
    }
   },
   "outputs": [],
   "source": [
    "@tf.function\n",
    "def integrated_gradients(baseline,\n",
    "                         input_vec,\n",
    "                         target_class_idx,\n",
    "                         m_steps=300,\n",
    "                         batch_size=32):\n",
    "    # 1. Generate alphas\n",
    "    alphas = tf.linspace(start=0.0, stop=1.0, num=m_steps)\n",
    "\n",
    "    # Accumulate gradients across batches\n",
    "    integrated_gradients = 0.0\n",
    "\n",
    "    # Batch alpha vectors\n",
    "    ds = tf.data.Dataset.from_tensor_slices(alphas).batch(batch_size)\n",
    "\n",
    "    for batch in ds:\n",
    "\n",
    "        # 2. Generate interpolated vectors\n",
    "        batch_interpolated_inputs = input_path_interpolation(baseline=baseline,\n",
    "                                                             input_vec=input_vec,\n",
    "                                                             alphas=batch)\n",
    "\n",
    "        # 3. Compute gradients between model outputs and interpolated inputs\n",
    "        batch_gradients = compute_gradients(inputs=batch_interpolated_inputs,\n",
    "                                            target_class_idx=target_class_idx)\n",
    "\n",
    "        # 4. Average integral approximation. Summing integrated gradients across batches.\n",
    "        integrated_gradients += integral_approximation(gradients=batch_gradients)\n",
    "\n",
    "    # 5. Scale integrated gradients with respect to input\n",
    "    scaled_integrated_gradients = (input_vec - baseline) * integrated_gradients\n",
    "    \n",
    "    return scaled_integrated_gradients"
   ]
  },
  {
   "cell_type": "code",
   "execution_count": null,
   "metadata": {},
   "outputs": [],
   "source": []
  }
 ],
 "metadata": {
  "kernelspec": {
   "display_name": "tensorflow2",
   "language": "python",
   "name": "tensorflow2"
  },
  "language_info": {
   "codemirror_mode": {
    "name": "ipython",
    "version": 3
   },
   "file_extension": ".py",
   "mimetype": "text/x-python",
   "name": "python",
   "nbconvert_exporter": "python",
   "pygments_lexer": "ipython3",
   "version": "3.7.7"
  },
  "varInspector": {
   "cols": {
    "lenName": 16,
    "lenType": 16,
    "lenVar": 40
   },
   "kernels_config": {
    "python": {
     "delete_cmd_postfix": "",
     "delete_cmd_prefix": "del ",
     "library": "var_list.py",
     "varRefreshCmd": "print(var_dic_list())"
    },
    "r": {
     "delete_cmd_postfix": ") ",
     "delete_cmd_prefix": "rm(",
     "library": "var_list.r",
     "varRefreshCmd": "cat(var_dic_list()) "
    }
   },
   "types_to_exclude": [
    "module",
    "function",
    "builtin_function_or_method",
    "instance",
    "_Feature"
   ],
   "window_display": false
  }
 },
 "nbformat": 4,
 "nbformat_minor": 2
}
