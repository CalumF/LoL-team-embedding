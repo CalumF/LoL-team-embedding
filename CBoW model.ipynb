{
 "cells": [
  {
   "cell_type": "code",
   "execution_count": 1,
   "metadata": {
    "ExecuteTime": {
     "end_time": "2020-08-04T16:38:31.222520Z",
     "start_time": "2020-08-04T16:38:26.707198Z"
    }
   },
   "outputs": [],
   "source": [
    "import pandas as pd\n",
    "import tensorflow as tf\n",
    "from sklearn.preprocessing import label_binarize\n",
    "from sklearn.model_selection import train_test_split\n",
    "import json\n",
    "from tensorflow_addons.callbacks import TQDMProgressBar\n",
    "import matplotlib.pyplot as plt\n",
    "import ast\n",
    "from tqdm.notebook import tqdm"
   ]
  },
  {
   "cell_type": "code",
   "execution_count": 2,
   "metadata": {
    "ExecuteTime": {
     "end_time": "2020-08-04T16:38:31.265407Z",
     "start_time": "2020-08-04T16:38:31.259204Z"
    }
   },
   "outputs": [],
   "source": [
    "def history_plot(*args, metric='loss'):\n",
    "    if len(args) > 1:\n",
    "        sum_list = []\n",
    "        for x in args:\n",
    "            sum_list += x.history[metric]\n",
    "        val_sum_list = []\n",
    "        for x in args:\n",
    "            val_sum_list += x.history['val_' + metric]\n",
    "        plt.plot(sum_list)\n",
    "        plt.plot(val_sum_list)\n",
    "        plt.title('model loss')\n",
    "        plt.ylabel('loss')\n",
    "        plt.xlabel('epoch')\n",
    "        plt.legend(['train', 'test'], loc='upper left')\n",
    "        plt.show()\n",
    "    else:\n",
    "        history = args[0]\n",
    "        plt.plot(history.history['loss'])\n",
    "        plt.plot(history.history['val_loss'])\n",
    "        plt.title('model loss')\n",
    "        plt.ylabel('loss')\n",
    "        plt.xlabel('epoch')\n",
    "        plt.legend(['train', 'test'], loc='upper left')\n",
    "        plt.show()"
   ]
  },
  {
   "cell_type": "code",
   "execution_count": 3,
   "metadata": {
    "ExecuteTime": {
     "end_time": "2020-08-04T16:38:31.310218Z",
     "start_time": "2020-08-04T16:38:31.304035Z"
    }
   },
   "outputs": [],
   "source": [
    "def to_one_hot_drop(comp_list):\n",
    "    X_out = np.zeros((len(comp_list)*5, 745))\n",
    "    y_out = np.zeros((len(comp_list)*5, 149))\n",
    "    for i, x in tqdm(enumerate(comp_list)):\n",
    "        array = label_binarize(x, classes=range(149)).flatten()\n",
    "        for drop_i in range(5):\n",
    "            y_out[i*5 + drop_i] = array[drop_i*149:(drop_i+1)*149]\n",
    "            X_out[i*5 + drop_i] = array\n",
    "            X_out[i*5 + drop_i, drop_i*149:(drop_i+1)*149] = 0\n",
    "    return X_out, y_out"
   ]
  },
  {
   "cell_type": "code",
   "execution_count": 4,
   "metadata": {
    "ExecuteTime": {
     "end_time": "2020-08-04T16:38:31.344531Z",
     "start_time": "2020-08-04T16:38:31.341366Z"
    }
   },
   "outputs": [],
   "source": [
    "def get_top_5_ch(array):\n",
    "    return [champion_index[np.argmax(sub_array)] for sub_array in np.split(array, 5)]"
   ]
  },
  {
   "cell_type": "code",
   "execution_count": 5,
   "metadata": {
    "ExecuteTime": {
     "end_time": "2020-08-04T16:38:31.382378Z",
     "start_time": "2020-08-04T16:38:31.379748Z"
    }
   },
   "outputs": [],
   "source": [
    "def get_top_5(array):\n",
    "    return [np.argmax(sub_array) for sub_array in np.split(array, 5)]"
   ]
  },
  {
   "cell_type": "code",
   "execution_count": 6,
   "metadata": {
    "ExecuteTime": {
     "end_time": "2020-08-04T16:38:31.413590Z",
     "start_time": "2020-08-04T16:38:31.408668Z"
    }
   },
   "outputs": [],
   "source": [
    "def model_eval(test, test_hat):\n",
    "    test_id = get_top_5(test)\n",
    "    print('Test composition: '+str(get_top_5_ch(test)))\n",
    "    print('Predicted composition: '+str(get_top_5_ch(test_hat)))\n",
    "\n",
    "    error = [np.argwhere(np.sort(sub_array)[::-1] == sub_array[test_id[i]])[0][0] for i, sub_array in enumerate(np.split(test_hat, 5))]\n",
    "    print('Predicted rank of test champions: '+str(error))"
   ]
  },
  {
   "cell_type": "code",
   "execution_count": 7,
   "metadata": {
    "ExecuteTime": {
     "end_time": "2020-08-04T16:38:31.444425Z",
     "start_time": "2020-08-04T16:38:31.440109Z"
    }
   },
   "outputs": [],
   "source": [
    "def rank_eval(y_test, y_test_hat):\n",
    "    y_hat_rank = [np.argwhere(np.sort(y_test_hat[i])[::-1] == y_test_hat[i,np.argmax(y_test[i])])[0][0] for i in range(len(y_test))]\n",
    "\n",
    "    print('Average prediction rank: ' + str(np.mean(y_hat_rank)))\n",
    "\n",
    "    print('No. of correct predictions: ' + str(y_hat_rank.count(0)))"
   ]
  },
  {
   "cell_type": "code",
   "execution_count": 22,
   "metadata": {
    "ExecuteTime": {
     "end_time": "2020-08-04T16:58:00.497047Z",
     "start_time": "2020-08-04T16:58:00.492188Z"
    }
   },
   "outputs": [],
   "source": [
    "def rank(y_test,y_test_hat):\n",
    "    return np.argwhere(np.sort(y_test_hat)[::-1] == y_test_hat[np.argmax(y_test)])[0][0]"
   ]
  },
  {
   "cell_type": "code",
   "execution_count": 9,
   "metadata": {
    "ExecuteTime": {
     "end_time": "2020-08-04T16:40:51.221563Z",
     "start_time": "2020-08-04T16:40:50.538314Z"
    }
   },
   "outputs": [],
   "source": [
    "champion_index = list(pd.read_csv('processed_data/chamion_index.csv', index_col=0).values.flatten())\n",
    "\n",
    "champion_dict = {y:i for i,y in enumerate(champion_index)}\n",
    "\n",
    "df = pd.read_csv('processed_data/balanced_class_df.csv')\n",
    "\n",
    "df.champions = df.champions.apply(lambda x: ast.literal_eval(x))\n",
    "\n",
    "df['champion_ids'] = df.champions.apply(lambda x: [champion_dict[y] for y in x])\n",
    "\n",
    "df = df.drop_duplicates(subset=['team', 'id', 'win']).copy()"
   ]
  },
  {
   "cell_type": "code",
   "execution_count": 20,
   "metadata": {
    "ExecuteTime": {
     "end_time": "2020-08-04T12:08:10.918396Z",
     "start_time": "2020-08-04T12:08:10.777454Z"
    }
   },
   "outputs": [],
   "source": [
    "df_champ_expanded = pd.DataFrame.from_records(df.champions.values, columns=['TOP', 'JUNGLE', 'MIDDLE', 'BOTTOM', 'SUPPORT'])\n",
    "\n",
    "df_champ_counts = df_champ_expanded.apply(lambda x :x.value_counts())"
   ]
  },
  {
   "cell_type": "code",
   "execution_count": 11,
   "metadata": {
    "ExecuteTime": {
     "end_time": "2020-08-04T16:41:30.702115Z",
     "start_time": "2020-08-04T16:41:19.934964Z"
    }
   },
   "outputs": [
    {
     "data": {
      "application/vnd.jupyter.widget-view+json": {
       "model_id": "1ddd8ab5a95c4f5cbeae7f69fbd10dfe",
       "version_major": 2,
       "version_minor": 0
      },
      "text/plain": [
       "HBox(children=(FloatProgress(value=1.0, bar_style='info', max=1.0), HTML(value='')))"
      ]
     },
     "metadata": {},
     "output_type": "display_data"
    },
    {
     "name": "stdout",
     "output_type": "stream",
     "text": [
      "\n"
     ]
    }
   ],
   "source": [
    "X, y = to_one_hot_drop(list(df.champion_ids))"
   ]
  },
  {
   "cell_type": "code",
   "execution_count": 12,
   "metadata": {
    "ExecuteTime": {
     "end_time": "2020-08-04T16:41:32.157954Z",
     "start_time": "2020-08-04T16:41:32.148492Z"
    }
   },
   "outputs": [
    {
     "data": {
      "text/plain": [
       "(203385, 745)"
      ]
     },
     "execution_count": 12,
     "metadata": {},
     "output_type": "execute_result"
    }
   ],
   "source": [
    "X.shape"
   ]
  },
  {
   "cell_type": "code",
   "execution_count": 13,
   "metadata": {
    "ExecuteTime": {
     "end_time": "2020-08-04T16:41:32.624084Z",
     "start_time": "2020-08-04T16:41:32.620637Z"
    }
   },
   "outputs": [
    {
     "data": {
      "text/plain": [
       "(203385, 149)"
      ]
     },
     "execution_count": 13,
     "metadata": {},
     "output_type": "execute_result"
    }
   ],
   "source": [
    "y.shape"
   ]
  },
  {
   "cell_type": "code",
   "execution_count": 14,
   "metadata": {
    "ExecuteTime": {
     "end_time": "2020-08-04T16:43:16.793506Z",
     "start_time": "2020-08-04T16:43:15.098879Z"
    }
   },
   "outputs": [],
   "source": [
    "X_train, X_test, y_train, y_test = train_test_split(X, y, test_size=0.1, random_state=100)"
   ]
  },
  {
   "cell_type": "code",
   "execution_count": 16,
   "metadata": {
    "ExecuteTime": {
     "end_time": "2020-08-04T16:49:30.811944Z",
     "start_time": "2020-08-04T16:49:30.722685Z"
    }
   },
   "outputs": [],
   "source": [
    "CBoW = tf.keras.Sequential()\n",
    "\n",
    "CBoW.add(tf.keras.layers.Dense(16, activation='relu', input_shape=(745,)))\n",
    "CBoW.add(tf.keras.layers.Dense(149, activation='softmax'))"
   ]
  },
  {
   "cell_type": "code",
   "execution_count": 26,
   "metadata": {
    "ExecuteTime": {
     "end_time": "2020-08-04T17:07:14.344061Z",
     "start_time": "2020-08-04T17:07:14.318299Z"
    }
   },
   "outputs": [],
   "source": [
    "CBoW.compile(loss='binary_crossentropy', optimizer='adadelta', metrics=['mae', 'mse'])"
   ]
  },
  {
   "cell_type": "code",
   "execution_count": 27,
   "metadata": {
    "ExecuteTime": {
     "end_time": "2020-08-04T17:07:16.521022Z",
     "start_time": "2020-08-04T17:07:16.516631Z"
    }
   },
   "outputs": [],
   "source": [
    "tqdm_callback = TQDMProgressBar(show_epoch_progress=False)"
   ]
  },
  {
   "cell_type": "code",
   "execution_count": 28,
   "metadata": {
    "ExecuteTime": {
     "end_time": "2020-08-04T17:07:18.346235Z",
     "start_time": "2020-08-04T17:07:17.762817Z"
    }
   },
   "outputs": [
    {
     "name": "stdout",
     "output_type": "stream",
     "text": [
      "636/636 [==============================] - 0s 580us/step - loss: 0.0403 - mae: 0.0133 - mse: 0.0067\n"
     ]
    },
    {
     "data": {
      "text/plain": [
       "[0.04027830809354782, 0.013332775793969631, 0.006666446104645729]"
      ]
     },
     "execution_count": 28,
     "metadata": {},
     "output_type": "execute_result"
    }
   ],
   "source": [
    "CBoW.evaluate(X_test, y_test)"
   ]
  },
  {
   "cell_type": "code",
   "execution_count": 37,
   "metadata": {
    "ExecuteTime": {
     "end_time": "2020-08-05T09:05:27.650473Z",
     "start_time": "2020-08-04T23:39:45.225478Z"
    }
   },
   "outputs": [
    {
     "data": {
      "application/vnd.jupyter.widget-view+json": {
       "model_id": "f732bd5762c04a66926a56aab2253eab",
       "version_major": 2,
       "version_minor": 0
      },
      "text/plain": [
       "HBox(children=(FloatProgress(value=0.0, description='Training', layout=Layout(flex='2'), max=30000.0, style=Pr…"
      ]
     },
     "metadata": {},
     "output_type": "display_data"
    },
    {
     "name": "stdout",
     "output_type": "stream",
     "text": [
      "\n"
     ]
    }
   ],
   "source": [
    "history2 = CBoW.fit(X_train, y_train,\n",
    "                    epochs=30000,\n",
    "                    batch_size=256,\n",
    "                    shuffle=True,\n",
    "                    verbose=0,\n",
    "                    validation_data=(X_test, y_test),\n",
    "                    callbacks=[tqdm_callback])"
   ]
  },
  {
   "cell_type": "code",
   "execution_count": 39,
   "metadata": {
    "ExecuteTime": {
     "end_time": "2020-08-05T14:38:04.280663Z",
     "start_time": "2020-08-05T14:38:03.660211Z"
    }
   },
   "outputs": [
    {
     "name": "stdout",
     "output_type": "stream",
     "text": [
      "636/636 [==============================] - 0s 609us/step - loss: 0.0390 - mae: 0.0133 - mse: 0.0066\n"
     ]
    },
    {
     "data": {
      "text/plain": [
       "[0.038966331630945206, 0.013297338038682938, 0.00664807204157114]"
      ]
     },
     "execution_count": 39,
     "metadata": {},
     "output_type": "execute_result"
    }
   ],
   "source": [
    "CBoW.evaluate(X_test, y_test)"
   ]
  },
  {
   "cell_type": "code",
   "execution_count": 38,
   "metadata": {
    "ExecuteTime": {
     "end_time": "2020-08-05T14:37:33.271227Z",
     "start_time": "2020-08-05T14:37:32.950363Z"
    }
   },
   "outputs": [
    {
     "data": {
      "image/png": "[encoded data removed]",
      "text/plain": [
       "<Figure size 432x288 with 1 Axes>"
      ]
     },
     "metadata": {
      "needs_background": "light"
     },
     "output_type": "display_data"
    }
   ],
   "source": [
    "history_plot(history2)"
   ]
  },
  {
   "cell_type": "code",
   "execution_count": 40,
   "metadata": {
    "ExecuteTime": {
     "end_time": "2020-08-05T14:38:21.210055Z",
     "start_time": "2020-08-05T14:38:20.942061Z"
    }
   },
   "outputs": [],
   "source": [
    "y_test_hat = CBoW.predict(X_test)"
   ]
  },
  {
   "cell_type": "code",
   "execution_count": 41,
   "metadata": {
    "ExecuteTime": {
     "end_time": "2020-08-05T14:38:22.568549Z",
     "start_time": "2020-08-05T14:38:22.192093Z"
    }
   },
   "outputs": [
    {
     "name": "stdout",
     "output_type": "stream",
     "text": [
      "Average prediction rank: 48.257682285264764\n",
      "No. of correct predictions: 447\n"
     ]
    }
   ],
   "source": [
    "rank_eval(y_test, y_test_hat)"
   ]
  },
  {
   "cell_type": "code",
   "execution_count": 33,
   "metadata": {
    "ExecuteTime": {
     "end_time": "2020-08-04T13:01:53.390374Z",
     "start_time": "2020-08-04T13:01:53.384520Z"
    }
   },
   "outputs": [
    {
     "name": "stdout",
     "output_type": "stream",
     "text": [
      "Model: \"sequential_1\"\n",
      "_________________________________________________________________\n",
      "Layer (type)                 Output Shape              Param #   \n",
      "=================================================================\n",
      "dense (Dense)                (None, 16)                11936     \n",
      "_________________________________________________________________\n",
      "dense_1 (Dense)              (None, 149)               2533      \n",
      "=================================================================\n",
      "Total params: 14,469\n",
      "Trainable params: 14,469\n",
      "Non-trainable params: 0\n",
      "_________________________________________________________________\n"
     ]
    }
   ],
   "source": [
    "CBoW.summary()"
   ]
  },
  {
   "cell_type": "code",
   "execution_count": null,
   "metadata": {},
   "outputs": [],
   "source": []
  }
 ],
 "metadata": {
  "kernelspec": {
   "display_name": "tensorflow2",
   "language": "python",
   "name": "tensorflow2"
  },
  "language_info": {
   "codemirror_mode": {
    "name": "ipython",
    "version": 3
   },
   "file_extension": ".py",
   "mimetype": "text/x-python",
   "name": "python",
   "nbconvert_exporter": "python",
   "pygments_lexer": "ipython3",
   "version": "3.7.7"
  },
  "varInspector": {
   "cols": {
    "lenName": 16,
    "lenType": 16,
    "lenVar": 40
   },
   "kernels_config": {
    "python": {
     "delete_cmd_postfix": "",
     "delete_cmd_prefix": "del ",
     "library": "var_list.py",
     "varRefreshCmd": "print(var_dic_list())"
    },
    "r": {
     "delete_cmd_postfix": ") ",
     "delete_cmd_prefix": "rm(",
     "library": "var_list.r",
     "varRefreshCmd": "cat(var_dic_list()) "
    }
   },
   "types_to_exclude": [
    "module",
    "function",
    "builtin_function_or_method",
    "instance",
    "_Feature"
   ],
   "window_display": false
  }
 },
 "nbformat": 4,
 "nbformat_minor": 2
}
